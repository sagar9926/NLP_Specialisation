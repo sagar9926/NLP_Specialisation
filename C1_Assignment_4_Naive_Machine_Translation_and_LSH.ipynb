{
  "nbformat": 4,
  "nbformat_minor": 0,
  "metadata": {
    "colab": {
      "name": "C1 Assignment 4 - Naive Machine Translation and LSH.ipynb",
      "provenance": [],
      "authorship_tag": "ABX9TyO0NJgZfSM8d5H6C1ngeOY+",
      "include_colab_link": true
    },
    "kernelspec": {
      "name": "python3",
      "display_name": "Python 3"
    },
    "language_info": {
      "name": "python"
    },
    "accelerator": "GPU"
  },
  "cells": [
    {
      "cell_type": "markdown",
      "metadata": {
        "id": "view-in-github",
        "colab_type": "text"
      },
      "source": [
        "<a href=\"https://colab.research.google.com/github/sagar9926/NLP_Specialisation/blob/main/C1_Assignment_4_Naive_Machine_Translation_and_LSH.ipynb\" target=\"_parent\"><img src=\"https://colab.research.google.com/assets/colab-badge.svg\" alt=\"Open In Colab\"/></a>"
      ]
    },
    {
      "cell_type": "markdown",
      "metadata": {
        "id": "4cfaePVQOy95"
      },
      "source": [
        "# Assignment 4 - Naive Machine Translation and LSH\n",
        "\n",
        "You will now implement your first machine translation system and then you\n",
        "will see how locality sensitive hashing works. Let's get started by importing\n",
        "the required functions!\n",
        "\n"
      ]
    },
    {
      "cell_type": "markdown",
      "metadata": {
        "id": "9bjw9SgfO6NW"
      },
      "source": [
        "### This assignment covers the folowing topics:\n",
        "\n",
        "- [1. The word embeddings data for English and French words](#1)\n",
        "  - [1.1 Generate embedding and transform matrices](#1-1)\n",
        "      - [Exercise 1](#ex-01)\n",
        "- [2. Translations](#2)\n",
        "  - [2.1 Translation as linear transformation of embeddings](#2-1)\n",
        "      - [Exercise 2](#ex-02)  \n",
        "      - [Exercise 3](#ex-03)  \n",
        "      - [Exercise 4](#ex-04)        \n",
        "  - [2.2 Testing the translation](#2-2)\n",
        "      - [Exercise 5](#ex-05)\n",
        "      - [Exercise 6](#ex-06)      \n",
        "- [3. LSH and document search](#3)\n",
        "  - [3.1 Getting the document embeddings](#3-1)\n",
        "      - [Exercise 7](#ex-07)\n",
        "      - [Exercise 8](#ex-08)      \n",
        "  - [3.2 Looking up the tweets](#3-2)\n",
        "  - [3.3 Finding the most similar tweets with LSH](#3-3)\n",
        "  - [3.4 Getting the hash number for a vector](#3-4)\n",
        "      - [Exercise 9](#ex-09)  \n",
        "  - [3.5 Creating a hash table](#3-5)\n",
        "      - [Exercise 10](#ex-10)  \n",
        "  - [3.6 Creating all hash tables](#3-6)\n",
        "      - [Exercise 11](#ex-11)  "
      ]
    },
    {
      "cell_type": "code",
      "metadata": {
        "colab": {
          "base_uri": "https://localhost:8080/"
        },
        "id": "DPRrJ-qjOtNM",
        "outputId": "6a5d686e-58f2-422d-e4cd-b33b63978c87"
      },
      "source": [
        "import pdb\n",
        "import pickle\n",
        "import string\n",
        "import pandas as pd\n",
        "import time\n",
        "import re\n",
        "import gensim\n",
        "import matplotlib.pyplot as plt\n",
        "import nltk\n",
        "import numpy as np\n",
        "import scipy\n",
        "import sklearn\n",
        "from gensim.models import KeyedVectors\n",
        "from nltk.corpus import stopwords, twitter_samples\n",
        "from nltk.tokenize import TweetTokenizer\n",
        "from nltk.stem import PorterStemmer\n",
        "\n",
        "from os import getcwd\n",
        "\n",
        "nltk.download('stopwords')\n",
        "nltk.download('twitter_samples')"
      ],
      "execution_count": 136,
      "outputs": [
        {
          "output_type": "stream",
          "text": [
            "[nltk_data] Downloading package stopwords to /root/nltk_data...\n",
            "[nltk_data]   Package stopwords is already up-to-date!\n",
            "[nltk_data] Downloading package twitter_samples to /root/nltk_data...\n",
            "[nltk_data]   Package twitter_samples is already up-to-date!\n"
          ],
          "name": "stdout"
        },
        {
          "output_type": "execute_result",
          "data": {
            "text/plain": [
              "True"
            ]
          },
          "metadata": {
            "tags": []
          },
          "execution_count": 136
        }
      ]
    },
    {
      "cell_type": "code",
      "metadata": {
        "id": "KkAfHeLmPIDF"
      },
      "source": [
        "#HELPER FUNCTIONS\n",
        "\n",
        "def cosine_similarity(A, B):\n",
        "    '''\n",
        "    Input:\n",
        "        A: a numpy array which corresponds to a word vector\n",
        "        B: A numpy array which corresponds to a word vector\n",
        "    Output:\n",
        "        cos: numerical number representing the cosine similarity between A and B.\n",
        "    '''\n",
        "    # you have to set this variable to the true label.\n",
        "    cos = -10\n",
        "    dot = np.dot(A, B)\n",
        "    norma = np.linalg.norm(A)\n",
        "    normb = np.linalg.norm(B)\n",
        "    cos = dot / (norma * normb)\n",
        "\n",
        "    return cos\n",
        "\n",
        "def get_dict(file_name):\n",
        "    \"\"\"\n",
        "    This function returns the english to french dictionary given a file where the each column corresponds to a word.\n",
        "    Check out the files this function takes in your workspace.\n",
        "    \"\"\"\n",
        "    my_file = pd.read_csv(file_name, delimiter=' ')\n",
        "    etof = {}  # the english to french dictionary to be returned\n",
        "    for i in range(len(my_file)):\n",
        "        # indexing into the rows.\n",
        "        en = my_file.loc[i][0]\n",
        "        fr = my_file.loc[i][1]\n",
        "        etof[en] = fr\n",
        "\n",
        "    return etof\n",
        "\n",
        "def process_tweet(tweet):\n",
        "    '''\n",
        "    Input:\n",
        "        tweet: a string containing a tweet\n",
        "    Output:\n",
        "        tweets_clean: a list of words containing the processed tweet\n",
        "\n",
        "    '''\n",
        "    stemmer = PorterStemmer()\n",
        "    stopwords_english = stopwords.words('english')\n",
        "    # remove stock market tickers like $GE\n",
        "    tweet = re.sub(r'\\$\\w*', '', tweet)\n",
        "    # remove old style retweet text \"RT\"\n",
        "    tweet = re.sub(r'^RT[\\s]+', '', tweet)\n",
        "    # remove hyperlinks\n",
        "    tweet = re.sub(r'https?:\\/\\/.*[\\r\\n]*', '', tweet)\n",
        "    # remove hashtags\n",
        "    # only removing the hash # sign from the word\n",
        "    tweet = re.sub(r'#', '', tweet)\n",
        "    # tokenize tweets\n",
        "    tokenizer = TweetTokenizer(preserve_case=False, strip_handles=True,\n",
        "                               reduce_len=True)\n",
        "    tweet_tokens = tokenizer.tokenize(tweet)\n",
        "\n",
        "    tweets_clean = []\n",
        "    for word in tweet_tokens:\n",
        "        if (word not in stopwords_english and  # remove stopwords\n",
        "            word not in string.punctuation):  # remove punctuation\n",
        "            # tweets_clean.append(word)\n",
        "            stem_word = stemmer.stem(word)  # stemming word\n",
        "            tweets_clean.append(stem_word)\n",
        "\n",
        "    return tweets_clean"
      ],
      "execution_count": 2,
      "outputs": []
    },
    {
      "cell_type": "markdown",
      "metadata": {
        "id": "KSmitHEyPxgd"
      },
      "source": [
        "<a name=\"1\"></a>\n",
        "\n",
        "# 1. The word embeddings data for English and French words\n",
        "\n",
        "Write a program that translates English to French.\n",
        "\n",
        "## The data\n",
        "\n",
        "The full dataset for English embeddings is about 3.64 gigabytes, and the French\n",
        "embeddings are about 629 megabytes. To prevent the Coursera workspace from\n",
        "crashing, we've extracted a subset of the embeddings for the words that you'll\n",
        "use in this assignment.\n",
        "\n",
        "If you want to run this on your local computer and use the full dataset,\n",
        "you can download the\n",
        "* English embeddings from Google code archive word2vec\n",
        "[look for GoogleNews-vectors-negative300.bin.gz](https://code.google.com/archive/p/word2vec/)\n",
        "    * You'll need to unzip the file first.\n",
        "* and the French embeddings from\n",
        "[cross_lingual_text_classification](https://github.com/vjstark/crosslingual_text_classification).\n",
        "    * in the terminal, type (in one line)\n",
        "    `curl -o ./wiki.multi.fr.vec https://dl.fbaipublicfiles.com/arrival/vectors/wiki.multi.fr.vec`\n",
        "\n",
        "Then copy-paste the code below and run it."
      ]
    },
    {
      "cell_type": "code",
      "metadata": {
        "colab": {
          "base_uri": "https://localhost:8080/"
        },
        "id": "LDER1uItPt4e",
        "outputId": "f6ff013f-421e-4d4b-d7fe-f8f62dae3fa6"
      },
      "source": [
        "!wget -c \"https://s3.amazonaws.com/dl4j-distribution/GoogleNews-vectors-negative300.bin.gz\"\n",
        "!gzip -d GoogleNews-vectors-negative300.bin.gz\n",
        "from gensim import models\n",
        "\n",
        "embeddings = models.KeyedVectors.load_word2vec_format(\n",
        "    '/content/GoogleNews-vectors-negative300.bin', binary=True)"
      ],
      "execution_count": 3,
      "outputs": [
        {
          "output_type": "stream",
          "text": [
            "--2021-06-26 03:49:18--  https://s3.amazonaws.com/dl4j-distribution/GoogleNews-vectors-negative300.bin.gz\n",
            "Resolving s3.amazonaws.com (s3.amazonaws.com)... 52.216.228.171\n",
            "Connecting to s3.amazonaws.com (s3.amazonaws.com)|52.216.228.171|:443... connected.\n",
            "HTTP request sent, awaiting response... 200 OK\n",
            "Length: 1647046227 (1.5G) [application/x-gzip]\n",
            "Saving to: ‘GoogleNews-vectors-negative300.bin.gz’\n",
            "\n",
            "GoogleNews-vectors- 100%[===================>]   1.53G  70.6MB/s    in 24s     \n",
            "\n",
            "2021-06-26 03:49:43 (64.4 MB/s) - ‘GoogleNews-vectors-negative300.bin.gz’ saved [1647046227/1647046227]\n",
            "\n"
          ],
          "name": "stdout"
        }
      ]
    },
    {
      "cell_type": "code",
      "metadata": {
        "colab": {
          "base_uri": "https://localhost:8080/"
        },
        "id": "0DouoBbDQC56",
        "outputId": "493b5cd1-ba0d-4ff7-de39-2f7112f94429"
      },
      "source": [
        "!curl -o ./wiki.multi.fr.vec https://dl.fbaipublicfiles.com/arrival/vectors/wiki.multi.fr.vec"
      ],
      "execution_count": 4,
      "outputs": [
        {
          "output_type": "stream",
          "text": [
            "  % Total    % Received % Xferd  Average Speed   Time    Time     Time  Current\n",
            "                                 Dload  Upload   Total   Spent    Left  Speed\n",
            "100  599M  100  599M    0     0  19.3M      0  0:00:31  0:00:31 --:--:-- 20.2M\n"
          ],
          "name": "stdout"
        }
      ]
    },
    {
      "cell_type": "code",
      "metadata": {
        "id": "Sy5Eq_8KQz7R"
      },
      "source": [
        "en_embeddings = KeyedVectors.load_word2vec_format('/content/GoogleNews-vectors-negative300.bin', binary = True)\n",
        "fr_embeddings = KeyedVectors.load_word2vec_format('/content/wiki.multi.fr.vec')"
      ],
      "execution_count": 5,
      "outputs": []
    },
    {
      "cell_type": "markdown",
      "metadata": {
        "id": "YxXV5qjrcpRu"
      },
      "source": [
        "#### Load two dictionaries mapping the English to French words\n",
        "* A training dictionary\n",
        "* and a testing dictionary."
      ]
    },
    {
      "cell_type": "code",
      "metadata": {
        "colab": {
          "base_uri": "https://localhost:8080/"
        },
        "id": "KXzgnB7VRLrK",
        "outputId": "68168445-4799-43ab-b819-04fe743bc9d3"
      },
      "source": [
        "# loading the english to french dictionaries\n",
        "en_fr_train = get_dict('https://raw.githubusercontent.com/amanjeetsahu/Natural-Language-Processing-Specialization/master/Natural%20Language%20Processing%20with%20Classification%20and%20Vector%20Spaces/Week%204/en-fr.train.txt')\n",
        "print('The length of the english to french training dictionary is', len(en_fr_train))\n",
        "en_fr_test = get_dict('https://raw.githubusercontent.com/amanjeetsahu/Natural-Language-Processing-Specialization/master/Natural%20Language%20Processing%20with%20Classification%20and%20Vector%20Spaces/Week%204/en-fr.test.txt')\n",
        "print('The length of the english to french test dictionary is', len(en_fr_train))\n",
        "\n",
        "english_set = set(en_embeddings.vocab)\n",
        "french_set = set(fr_embeddings.vocab)\n",
        "en_embeddings_subset = {}\n",
        "fr_embeddings_subset = {}\n",
        "french_words = set(en_fr_train.values())"
      ],
      "execution_count": 6,
      "outputs": [
        {
          "output_type": "stream",
          "text": [
            "The length of the english to french training dictionary is 5000\n",
            "The length of the english to french test dictionary is 5000\n"
          ],
          "name": "stdout"
        }
      ]
    },
    {
      "cell_type": "code",
      "metadata": {
        "id": "adAZPubCYjSx"
      },
      "source": [
        "for en_word in en_fr_train.keys():\n",
        "    fr_word = en_fr_train[en_word]\n",
        "    if fr_word in french_set and en_word in english_set:\n",
        "        en_embeddings_subset[en_word] = en_embeddings[en_word]\n",
        "        fr_embeddings_subset[fr_word] = fr_embeddings[fr_word]\n",
        "\n",
        "\n",
        "for en_word in en_fr_test.keys():\n",
        "    fr_word = en_fr_test[en_word]\n",
        "    if fr_word in french_set and en_word in english_set:\n",
        "        en_embeddings_subset[en_word] = en_embeddings[en_word]\n",
        "        fr_embeddings_subset[fr_word] = fr_embeddings[fr_word]\n",
        "\n",
        "\n",
        "pickle.dump( en_embeddings_subset, open( \"en_embeddings.p\", \"wb\" ) )\n",
        "pickle.dump( fr_embeddings_subset, open( \"fr_embeddings.p\", \"wb\" ) )"
      ],
      "execution_count": 7,
      "outputs": []
    },
    {
      "cell_type": "code",
      "metadata": {
        "id": "XNZzxet7chHz"
      },
      "source": [
        "en_embeddings_subset = pickle.load(open(\"en_embeddings.p\", \"rb\"))\n",
        "fr_embeddings_subset = pickle.load(open(\"fr_embeddings.p\", \"rb\"))"
      ],
      "execution_count": 8,
      "outputs": []
    },
    {
      "cell_type": "code",
      "metadata": {
        "id": "9m9zFcmKdgWy",
        "outputId": "4036190b-1c16-47e4-878d-117afed7c937",
        "colab": {
          "base_uri": "https://localhost:8080/"
        }
      },
      "source": [
        "en_embeddings_subset['the']"
      ],
      "execution_count": 10,
      "outputs": [
        {
          "output_type": "execute_result",
          "data": {
            "text/plain": [
              "array([ 0.08007812,  0.10498047,  0.04980469,  0.0534668 , -0.06738281,\n",
              "       -0.12060547,  0.03515625, -0.11865234,  0.04394531,  0.03015137,\n",
              "       -0.05688477, -0.07617188,  0.01287842,  0.04980469, -0.08496094,\n",
              "       -0.06347656,  0.00628662, -0.04321289,  0.02026367,  0.01330566,\n",
              "       -0.01953125,  0.09277344, -0.171875  , -0.00131989,  0.06542969,\n",
              "        0.05834961, -0.08251953,  0.0859375 , -0.00318909,  0.05859375,\n",
              "       -0.03491211, -0.0123291 , -0.0480957 , -0.00302124,  0.05639648,\n",
              "        0.01495361, -0.07226562, -0.05224609,  0.09667969,  0.04296875,\n",
              "       -0.03540039, -0.07324219,  0.03271484, -0.06176758,  0.00787354,\n",
              "        0.0035553 , -0.00878906,  0.0390625 ,  0.03833008,  0.04443359,\n",
              "        0.06982422,  0.01263428, -0.00445557, -0.03320312, -0.04272461,\n",
              "        0.09765625, -0.02160645, -0.0378418 ,  0.01190186, -0.01391602,\n",
              "       -0.11328125,  0.09326172, -0.03930664, -0.11621094,  0.02331543,\n",
              "       -0.01599121,  0.02636719,  0.10742188, -0.00466919,  0.09619141,\n",
              "        0.0279541 , -0.05395508,  0.08544922, -0.03686523, -0.02026367,\n",
              "       -0.08544922,  0.125     ,  0.14453125,  0.0267334 ,  0.15039062,\n",
              "        0.05273438, -0.18652344,  0.08154297, -0.01062012, -0.03735352,\n",
              "       -0.07324219, -0.07519531,  0.03613281, -0.13183594,  0.00616455,\n",
              "        0.05078125,  0.04516602,  0.0100708 , -0.15039062, -0.06005859,\n",
              "        0.05761719, -0.00692749,  0.01586914, -0.0213623 ,  0.10351562,\n",
              "       -0.00029182, -0.046875  , -0.01635742, -0.07861328, -0.06933594,\n",
              "        0.01635742, -0.03149414, -0.01373291, -0.03662109, -0.08886719,\n",
              "       -0.0480957 , -0.01318359, -0.07177734,  0.00588989, -0.04614258,\n",
              "        0.03979492,  0.10058594, -0.04931641,  0.07568359,  0.03881836,\n",
              "       -0.16699219, -0.09619141, -0.10107422,  0.02905273, -0.05786133,\n",
              "       -0.01928711, -0.04296875, -0.08398438, -0.01989746,  0.05151367,\n",
              "        0.00848389, -0.03613281, -0.14941406, -0.01855469, -0.03637695,\n",
              "       -0.07666016, -0.03955078, -0.06152344, -0.02001953,  0.04150391,\n",
              "        0.03686523, -0.07226562,  0.00592041, -0.06298828,  0.00738525,\n",
              "       -0.01586914,  0.01611328, -0.01452637,  0.00772095,  0.10107422,\n",
              "       -0.00558472,  0.01428223, -0.07617188,  0.05639648, -0.01293945,\n",
              "        0.03063965, -0.02490234, -0.09863281,  0.0324707 , -0.02807617,\n",
              "       -0.08105469,  0.02062988,  0.01611328, -0.04199219, -0.03491211,\n",
              "       -0.03759766,  0.05493164,  0.01373291,  0.02685547, -0.05859375,\n",
              "       -0.07177734, -0.12011719, -0.02282715, -0.1640625 , -0.00361633,\n",
              "       -0.05981445,  0.07080078, -0.07714844,  0.05175781, -0.04296875,\n",
              "       -0.04833984,  0.0300293 , -0.06591797, -0.03173828, -0.04882812,\n",
              "       -0.03491211,  0.05883789, -0.01464844,  0.18066406,  0.05688477,\n",
              "        0.05249023,  0.05786133,  0.11669922,  0.05200195, -0.0534668 ,\n",
              "        0.01867676, -0.015625  ,  0.00576782, -0.07324219, -0.11621094,\n",
              "        0.04052734,  0.0625    , -0.04321289,  0.01055908,  0.02172852,\n",
              "        0.04248047,  0.03271484,  0.04418945,  0.05761719,  0.02612305,\n",
              "       -0.01831055, -0.02697754, -0.00674438,  0.00509644, -0.11621094,\n",
              "        0.00364685,  0.05761719, -0.05957031, -0.08837891,  0.0135498 ,\n",
              "        0.04541016, -0.04638672, -0.0177002 , -0.0625    ,  0.03442383,\n",
              "       -0.02416992,  0.03088379,  0.09570312,  0.07958984,  0.03930664,\n",
              "        0.0279541 , -0.0859375 ,  0.08105469,  0.06640625, -0.00041962,\n",
              "       -0.06933594,  0.03588867, -0.03417969,  0.04492188, -0.00772095,\n",
              "       -0.00741577, -0.04760742,  0.01397705, -0.09960938,  0.0246582 ,\n",
              "       -0.09960938,  0.11474609,  0.03173828,  0.02209473,  0.07226562,\n",
              "        0.03686523,  0.02563477,  0.01367188, -0.02734375,  0.00592041,\n",
              "       -0.06738281,  0.05053711, -0.02832031, -0.04516602, -0.01733398,\n",
              "        0.02111816,  0.03515625, -0.04296875,  0.06640625,  0.12207031,\n",
              "        0.12353516,  0.0039978 ,  0.04516602, -0.01855469,  0.04833984,\n",
              "        0.04516602,  0.08691406,  0.02941895,  0.03759766,  0.03442383,\n",
              "       -0.07373047, -0.0402832 , -0.14648438, -0.02441406, -0.01953125,\n",
              "        0.0065918 , -0.0018158 , -0.01092529,  0.09326172,  0.06542969,\n",
              "        0.01843262, -0.09326172, -0.01574707, -0.07128906, -0.08935547,\n",
              "       -0.07128906, -0.03015137, -0.01300049,  0.01635742, -0.01831055,\n",
              "        0.01483154,  0.00500488,  0.00366211,  0.04760742, -0.06884766],\n",
              "      dtype=float32)"
            ]
          },
          "metadata": {
            "tags": []
          },
          "execution_count": 10
        }
      ]
    },
    {
      "cell_type": "markdown",
      "metadata": {
        "id": "7JSMmZ_jcfbR"
      },
      "source": [
        "#### Look at the data\n",
        "\n",
        "* en_embeddings_subset: the key is an English word, and the vaule is a\n",
        "300 dimensional array, which is the embedding for that word.\n",
        "```\n",
        "'the': array([ 0.08007812,  0.10498047,  0.04980469,  0.0534668 , -0.06738281, ....\n",
        "```\n",
        "\n",
        "* fr_embeddings_subset: the key is an French word, and the vaule is a 300\n",
        "dimensional array, which is the embedding for that word.\n",
        "```\n",
        "'la': array([-6.18250e-03, -9.43867e-04, -8.82648e-03,  3.24623e-02,...\n",
        "```"
      ]
    },
    {
      "cell_type": "markdown",
      "metadata": {
        "id": "1FdJWk4eclMS"
      },
      "source": [
        "#### Looking at the English French dictionary\n",
        "\n",
        "* `en_fr_train` is a dictionary where the key is the English word and the value\n",
        "is the French translation of that English word.\n",
        "```\n",
        "{'the': 'la',\n",
        " 'and': 'et',\n",
        " 'was': 'était',\n",
        " 'for': 'pour',\n",
        "```\n",
        "\n",
        "* `en_fr_test` is similar to `en_fr_train`, but is a test set.  We won't look at it\n",
        "until we get to testing."
      ]
    },
    {
      "cell_type": "markdown",
      "metadata": {
        "id": "hratDA-cd8Wj"
      },
      "source": [
        "<a name=\"1-1\"></a>\n",
        "\n",
        "## 1.1 Generate embedding and transform matrices\n",
        "\n",
        "<a name=\"ex-01\"></a>\n",
        "#### Exercise 01: Translating English dictionary to French by using embeddings\n",
        "\n",
        "You will now implement a function `get_matrices`, which takes the loaded data\n",
        "and returns matrices `X` and `Y`.\n",
        "\n",
        "Inputs:\n",
        "- `en_fr` : English to French dictionary\n",
        "- `en_embeddings` : English to embeddings dictionary\n",
        "- `fr_embeddings` : French to embeddings dictionary\n",
        "\n",
        "Returns:\n",
        "- Matrix `X` and matrix `Y`, where each row in X is the word embedding for an\n",
        "english word, and the same row in Y is the word embedding for the French\n",
        "version of that English word.\n",
        "\n",
        "<div style=\"width:image width px; font-size:100%; text-align:center;\">\n",
        "<img src='https://pqbrxazz.labs.coursera.org/notebooks/Week4/X_to_Y.jpg' alt=\"alternate text\" width=\"width\" height=\"height\" style=\"width:800px;height:200px;\" /> Figure 2 </div>\n",
        "\n",
        "Use the `en_fr` dictionary to ensure that the ith row in the `X` matrix\n",
        "corresponds to the ith row in the `Y` matrix."
      ]
    },
    {
      "cell_type": "code",
      "metadata": {
        "id": "c8-PcJXadoW4",
        "outputId": "4c5a1d03-f352-42a8-fe83-87e6e89238f7",
        "colab": {
          "base_uri": "https://localhost:8080/"
        }
      },
      "source": [
        "#test \n",
        "\n",
        "a = np.array([[1, 2, 3],[1,2,3]])\n",
        "b = np.array([[4, 5, 6],[4, 5, 6]])\n",
        "print(np.stack((a,b)).shape)\n",
        "print(np.vstack((a,b)).shape)"
      ],
      "execution_count": 41,
      "outputs": [
        {
          "output_type": "stream",
          "text": [
            "(2, 2, 3)\n",
            "(4, 3)\n"
          ],
          "name": "stdout"
        }
      ]
    },
    {
      "cell_type": "code",
      "metadata": {
        "id": "X3UPEvk6fFze"
      },
      "source": [
        "# UNQ_C1 (UNIQUE CELL IDENTIFIER, DO NOT EDIT)\n",
        "def get_matrices(en_fr, french_vecs, english_vecs):\n",
        "    \"\"\"\n",
        "    Input:\n",
        "        en_fr: English to French dictionary\n",
        "        french_vecs: French words to their corresponding word embeddings.\n",
        "        english_vecs: English words to their corresponding word embeddings.\n",
        "    Output: \n",
        "        X: a matrix where the columns are the English embeddings.\n",
        "        Y: a matrix where the columns correspong to the French embeddings.\n",
        "        R: the projection matrix that minimizes the F norm ||X R -Y||^2.\n",
        "    \"\"\"\n",
        "\n",
        "    ### START CODE HERE (REPLACE INSTANCES OF 'None' with your code) ###\n",
        "\n",
        "    # X_l and Y_l are lists of the english and french word embeddings\n",
        "    X_l = list()\n",
        "    Y_l = list()\n",
        "\n",
        "    # get the english words (the keys in the dictionary) and store in a set()\n",
        "    english_set = set(english_vecs.keys())\n",
        "\n",
        "    # get the french words (keys in the dictionary) and store in a set()\n",
        "    french_set = set(french_vecs.keys())\n",
        "\n",
        "    # store the french words that are part of the english-french dictionary (these are the values of the dictionary)\n",
        "    french_words = set(en_fr.values())\n",
        "\n",
        "    # loop through all english, french word pairs in the english french dictionary\n",
        "    for en_word, fr_word in en_fr.items():\n",
        "\n",
        "        # check that the french word has an embedding and that the english word has an embedding\n",
        "        if fr_word in french_set and en_word in english_set:\n",
        "\n",
        "            # get the english embedding\n",
        "            en_vec = english_vecs[en_word]\n",
        "\n",
        "            # get the french embedding\n",
        "            fr_vec = french_vecs[fr_word]\n",
        "\n",
        "            # add the english embedding to the list\n",
        "            X_l.append(en_vec)\n",
        "\n",
        "            # add the french embedding to the list\n",
        "            Y_l.append(fr_vec)\n",
        "\n",
        "    # stack the vectors of X_l into a matrix X\n",
        "    X = np.vstack(X_l)\n",
        "\n",
        "    # stack the vectors of Y_l into a matrix Y\n",
        "    Y = np.vstack(Y_l)\n",
        "    ### END CODE HERE ###\n",
        "\n",
        "    return X, Y\n"
      ],
      "execution_count": 42,
      "outputs": []
    },
    {
      "cell_type": "code",
      "metadata": {
        "id": "xbUTvEfpfWGs"
      },
      "source": [
        "# UNQ_C2 (UNIQUE CELL IDENTIFIER, DO NOT EDIT)\n",
        "# You do not have to input any code in this cell, but it is relevant to grading, so please do not change anything\n",
        "\n",
        "# getting the training set:\n",
        "X_train, Y_train = get_matrices(\n",
        "    en_fr_train, fr_embeddings_subset, en_embeddings_subset)"
      ],
      "execution_count": 17,
      "outputs": []
    },
    {
      "cell_type": "code",
      "metadata": {
        "id": "hEQ_ZEu7gdeK",
        "outputId": "cc036a72-16fb-4501-80b0-78e0f2af4c5b",
        "colab": {
          "base_uri": "https://localhost:8080/"
        }
      },
      "source": [
        "X_train.shape"
      ],
      "execution_count": 20,
      "outputs": [
        {
          "output_type": "execute_result",
          "data": {
            "text/plain": [
              "(4932, 300)"
            ]
          },
          "metadata": {
            "tags": []
          },
          "execution_count": 20
        }
      ]
    },
    {
      "cell_type": "markdown",
      "metadata": {
        "id": "FZIdLyKEfgyo"
      },
      "source": [
        "<a name=\"2\"></a>\n",
        "\n",
        "# 2. Translations\n",
        "\n",
        "<div style=\"width:image width px; font-size:100%; text-align:center;\"><img src='https://pqbrxazz.labs.coursera.org/notebooks/Week4/e_to_f.jpg' alt=\"alternate text\" width=\"width\" height=\"height\" style=\"width:700px;height:200px;\" /> Figure 1 </div>\n",
        "\n",
        "Write a program that translates English words to French words using word embeddings and vector space models. \n",
        "\n",
        "<a name=\"2-1\"></a>\n",
        "## 2.1 Translation as linear transformation of embeddings\n",
        "\n",
        "Given dictionaries of English and French word embeddings you will create a transformation matrix `R`\n",
        "* Given an English word embedding, $\\mathbf{e}$, you can multiply $\\mathbf{eR}$ to get a new word embedding $\\mathbf{f}$.\n",
        "    * Both $\\mathbf{e}$ and $\\mathbf{f}$ are [row vectors](https://en.wikipedia.org/wiki/Row_and_column_vectors).\n",
        "* You can then compute the nearest neighbors to `f` in the french embeddings and recommend the word that is most similar to the transformed word embedding."
      ]
    },
    {
      "cell_type": "markdown",
      "metadata": {
        "id": "gYU7LX-9fvFq"
      },
      "source": [
        "### Describing translation as the minimization problem\n",
        "\n",
        "Find a matrix `R` that minimizes the following equation. \n",
        "\n",
        "$$\\arg \\min _{\\mathbf{R}}\\| \\mathbf{X R} - \\mathbf{Y}\\|_{F}\\tag{1} $$\n",
        "\n",
        "### Frobenius norm\n",
        "\n",
        "The Frobenius norm of a matrix $A$ (assuming it is of dimension $m,n$) is defined as the square root of the sum of the absolute squares of its elements:\n",
        "\n",
        "$$\\|\\mathbf{A}\\|_{F} \\equiv \\sqrt{\\sum_{i=1}^{m} \\sum_{j=1}^{n}\\left|a_{i j}\\right|^{2}}\\tag{2}$$"
      ]
    },
    {
      "cell_type": "markdown",
      "metadata": {
        "id": "3P_OzKo1f3yX"
      },
      "source": [
        "### Actual loss function\n",
        "In the real world applications, the Frobenius norm loss:\n",
        "\n",
        "$$\\| \\mathbf{XR} - \\mathbf{Y}\\|_{F}$$\n",
        "\n",
        "is often replaced by it's squared value divided by $m$:\n",
        "\n",
        "$$ \\frac{1}{m} \\|  \\mathbf{X R} - \\mathbf{Y} \\|_{F}^{2}$$\n",
        "\n",
        "where $m$ is the number of examples (rows in $\\mathbf{X}$).\n",
        "\n",
        "* The same R is found when using this loss function versus the original Frobenius norm.\n",
        "* The reason for taking the square is that it's easier to compute the gradient of the squared Frobenius.\n",
        "* The reason for dividing by $m$ is that we're more interested in the average loss per embedding than the  loss for the entire training set.\n",
        "    * The loss for all training set increases with more words (training examples),\n",
        "    so taking the average helps us to track the average loss regardless of the size of the training set."
      ]
    },
    {
      "cell_type": "markdown",
      "metadata": {
        "id": "ZrKf6e7Ef_O5"
      },
      "source": [
        "##### [Optional] Detailed explanation why we use norm squared instead of the norm:\n",
        "<details>\n",
        "<summary>\n",
        "    Click for optional details\n",
        "</summary>\n",
        "    <p>\n",
        "        <ul>\n",
        "            <li>The norm is always nonnegative (we're summing up absolute values), and so is the square. \n",
        "            <li> When we take the square of all non-negative (positive or zero) numbers, the order of the data is preserved.  \n",
        "            <li> For example, if 3 > 2, 3^2 > 2^2\n",
        "            <li> Using the norm or squared norm in gradient descent results in the same <i>location</i> of the minimum.\n",
        "            <li> Squaring cancels the square root in the Frobenius norm formula. Because of the <a href=\"https://en.wikipedia.org/wiki/Chain_rule\"> chain rule</a>, we would have to do more calculations if we had a square root in our expression for summation.\n",
        "            <li> Dividing the function value by the positive number doesn't change the optimum of the function, for the same reason as described above.\n",
        "            <li> We're interested in transforming English embedding into the French. Thus, it is more important to measure average loss per embedding than the loss for the entire dictionary (which increases as the number of words in the dictionary increases).\n",
        "        </ul>\n",
        "    </p>\n",
        "    "
      ]
    },
    {
      "cell_type": "markdown",
      "metadata": {
        "id": "fCR5ka_HgNks"
      },
      "source": [
        "<a name=\"ex-02\"></a>\n",
        "\n",
        "### Exercise 02: Implementing translation mechanism described in this section.\n",
        "\n",
        "#### Step 1: Computing the loss\n",
        "* The loss function will be squared Frobenoius norm of the difference between\n",
        "matrix and its approximation, divided by the number of training examples $m$.\n",
        "* Its formula is:\n",
        "$$ L(X, Y, R)=\\frac{1}{m}\\sum_{i=1}^{m} \\sum_{j=1}^{n}\\left( a_{i j} \\right)^{2}$$\n",
        "\n",
        "where $a_{i j}$ is value in $i$th row and $j$th column of the matrix $\\mathbf{XR}-\\mathbf{Y}$."
      ]
    },
    {
      "cell_type": "markdown",
      "metadata": {
        "id": "FbFQ-jfRgU_b"
      },
      "source": [
        "#### Instructions: complete the `compute_loss()` function\n",
        "\n",
        "* Compute the approximation of `Y` by matrix multiplying `X` and `R`\n",
        "* Compute difference `XR - Y`\n",
        "* Compute the squared Frobenius norm of the difference and divide it by $m$."
      ]
    },
    {
      "cell_type": "code",
      "metadata": {
        "id": "kkpV3p2ufZVO",
        "outputId": "05087f5c-f562-4e73-818d-f75194003e1d",
        "colab": {
          "base_uri": "https://localhost:8080/"
        }
      },
      "source": [
        "# test\n",
        "\n",
        "x = np.array([[1,2]])\n",
        "R1 = np.array([[6,7],\n",
        "              [10,11]])\n",
        "print(x.shape)\n",
        "print(R1.shape)\n",
        "y = np.dot(x,R1)\n",
        "print(y)\n",
        "print(np.square(x))\n",
        "print(x**2)"
      ],
      "execution_count": 44,
      "outputs": [
        {
          "output_type": "stream",
          "text": [
            "(1, 2)\n",
            "(2, 2)\n",
            "[[26 29]]\n",
            "[[1 4]]\n",
            "[[1 4]]\n"
          ],
          "name": "stdout"
        }
      ]
    },
    {
      "cell_type": "code",
      "metadata": {
        "id": "e7r1vbD8g7Am"
      },
      "source": [
        "# UNQ_C3 (UNIQUE CELL IDENTIFIER, DO NOT EDIT)\n",
        "def compute_loss(X, Y, R):\n",
        "    '''\n",
        "    Inputs: \n",
        "        X: a matrix of dimension (m,n) where the columns are the English embeddings.\n",
        "        Y: a matrix of dimension (m,n) where the columns correspong to the French embeddings.\n",
        "        R: a matrix of dimension (n,n) - transformation matrix from English to French vector space embeddings.\n",
        "    Outputs:\n",
        "        L: a matrix of dimension (m,n) - the value of the loss function for given X, Y and R.\n",
        "    '''\n",
        "    ### START CODE HERE (REPLACE INSTANCES OF 'None' with your code) ###\n",
        "    # m is the number of rows in X\n",
        "    m = X_train.shape[0]\n",
        "    \n",
        "    # diff is XR - Y\n",
        "    diff = np.dot(X,R) - Y\n",
        "\n",
        "    # diff_squared is the element-wise square of the difference\n",
        "    diff_squared = np.square(diff)\n",
        "\n",
        "    # sum_diff_squared is the sum of the squared elements\n",
        "    sum_diff_squared = np.sum(diff_squared)\n",
        "\n",
        "    # loss i the sum_diff_squard divided by the number of examples (m)\n",
        "    loss = sum_diff_squared / m\n",
        "    ### END CODE HERE ###\n",
        "    return loss\n"
      ],
      "execution_count": 34,
      "outputs": []
    },
    {
      "cell_type": "markdown",
      "metadata": {
        "id": "SKjuvXKtipbz"
      },
      "source": [
        "<a name=\"ex-03\"></a>\n",
        "\n",
        "### Exercise 03\n",
        "\n",
        "### Step 2: Computing the gradient of loss in respect to transform matrix R\n",
        "\n",
        "* Calculate the gradient of the loss with respect to transform matrix `R`.\n",
        "* The gradient is a matrix that encodes how much a small change in `R`\n",
        "affect the change in the loss function.\n",
        "* The gradient gives us the direction in which we should decrease `R`\n",
        "to minimize the loss.\n",
        "* $m$ is the number of training examples (number of rows in $X$).\n",
        "* The formula for the gradient of the loss function $𝐿(𝑋,𝑌,𝑅)$ is:\n",
        "\n",
        "$$\\frac{d}{dR}𝐿(𝑋,𝑌,𝑅)=\\frac{d}{dR}\\Big(\\frac{1}{m}\\| X R -Y\\|_{F}^{2}\\Big) = \\frac{2}{m}X^{T} (X R - Y)$$\n",
        "\n",
        "**Instructions**: Complete the `compute_gradient` function below."
      ]
    },
    {
      "cell_type": "code",
      "metadata": {
        "id": "2zwA9m1dimOJ"
      },
      "source": [
        "# UNQ_C4 (UNIQUE CELL IDENTIFIER, DO NOT EDIT)\n",
        "def compute_gradient(X, Y, R):\n",
        "    '''\n",
        "    Inputs: \n",
        "        X: a matrix of dimension (m,n) where the columns are the English embeddings.\n",
        "        Y: a matrix of dimension (m,n) where the columns correspong to the French embeddings.\n",
        "        R: a matrix of dimension (n,n) - transformation matrix from English to French vector space embeddings.\n",
        "    Outputs:\n",
        "        g: a scalar value - gradient of the loss function L for given X, Y and R.\n",
        "    '''\n",
        "    ### START CODE HERE (REPLACE INSTANCES OF 'None' with your code) ###\n",
        "    # m is the number of rows in X\n",
        "    m = X.shape[0]\n",
        "\n",
        "    # gradient is X^T(XR - Y) * 2/m\n",
        "    gradient = np.dot(X.T,np.dot(X,R) - Y)*(2/m)\n",
        "    ### END CODE HERE ###\n",
        "    return gradient\n"
      ],
      "execution_count": 36,
      "outputs": []
    },
    {
      "cell_type": "markdown",
      "metadata": {
        "id": "2fXQdwERjCGo"
      },
      "source": [
        "<a name=\"ex-04\"></a>\n",
        "\n",
        "### Exercise 04\n",
        "\n",
        "#### Instructions: Implement `align_embeddings()`|"
      ]
    },
    {
      "cell_type": "code",
      "metadata": {
        "id": "HxovPzj9i-Gu"
      },
      "source": [
        "# UNQ_C5 (UNIQUE CELL IDENTIFIER, DO NOT EDIT)\n",
        "def align_embeddings(X, Y, train_steps=100, learning_rate=0.0003):\n",
        "    '''\n",
        "    Inputs:\n",
        "        X: a matrix of dimension (m,n) where the columns are the English embeddings.\n",
        "        Y: a matrix of dimension (m,n) where the columns correspong to the French embeddings.\n",
        "        train_steps: positive int - describes how many steps will gradient descent algorithm do.\n",
        "        learning_rate: positive float - describes how big steps will  gradient descent algorithm do.\n",
        "    Outputs:\n",
        "        R: a matrix of dimension (n,n) - the projection matrix that minimizes the F norm ||X R -Y||^2\n",
        "    '''\n",
        "    np.random.seed(129)\n",
        "\n",
        "    # the number of columns in X is the number of dimensions for a word vector (e.g. 300)\n",
        "    # R is a square matrix with length equal to the number of dimensions in th  word embedding\n",
        "    R = np.random.rand(X.shape[1], X.shape[1])\n",
        "\n",
        "    for i in range(train_steps):\n",
        "        if i % 25 == 0:\n",
        "            print(f\"loss at iteration {i} is: {compute_loss(X, Y, R):.4f}\")\n",
        "        ### START CODE HERE (REPLACE INSTANCES OF 'None' with your code) ###\n",
        "        # use the function that you defined to compute the gradient\n",
        "        gradient = compute_gradient(X, Y, R)\n",
        "\n",
        "        # update R by subtracting the learning rate times gradient\n",
        "        R -= learning_rate*gradient\n",
        "        ### END CODE HERE ###\n",
        "    return R\n"
      ],
      "execution_count": 45,
      "outputs": []
    },
    {
      "cell_type": "code",
      "metadata": {
        "id": "4af6GN9JoNWB",
        "outputId": "767da7ef-5a43-4d7b-b9ac-1f6c48e27832",
        "colab": {
          "base_uri": "https://localhost:8080/"
        }
      },
      "source": [
        "# UNQ_C6 (UNIQUE CELL IDENTIFIER, DO NOT EDIT)\n",
        "# You do not have to input any code in this cell, but it is relevant to grading, so please do not change anything\n",
        "\n",
        "# Testing your implementation.\n",
        "np.random.seed(129)\n",
        "m = 10\n",
        "n = 5\n",
        "X = np.random.rand(m, n)\n",
        "Y = np.random.rand(m, n) * .1\n",
        "R = align_embeddings(X, Y)"
      ],
      "execution_count": 46,
      "outputs": [
        {
          "output_type": "stream",
          "text": [
            "loss at iteration 0 is: 0.0076\n",
            "loss at iteration 25 is: 0.0074\n",
            "loss at iteration 50 is: 0.0072\n",
            "loss at iteration 75 is: 0.0070\n"
          ],
          "name": "stdout"
        }
      ]
    },
    {
      "cell_type": "markdown",
      "metadata": {
        "id": "lV5iZP_LoS0P"
      },
      "source": [
        "## Calculate transformation matrix R\n",
        "\n",
        "Using those the training set, find the transformation matrix $\\mathbf{R}$ by calling the function `align_embeddings()`.\n",
        "\n",
        "**NOTE:** The code cell below will take a few minutes to fully execute (~3 mins)"
      ]
    },
    {
      "cell_type": "code",
      "metadata": {
        "id": "7rxhUGVBoQTS",
        "outputId": "86a6b748-ef90-4354-8ced-1f1eb9b8df03",
        "colab": {
          "base_uri": "https://localhost:8080/"
        }
      },
      "source": [
        "# UNQ_C7 (UNIQUE CELL IDENTIFIER, DO NOT EDIT)\n",
        "# You do not have to input any code in this cell, but it is relevant to grading, so please do not change anything\n",
        "R_train = align_embeddings(X_train, Y_train, train_steps=400, learning_rate=0.8)"
      ],
      "execution_count": 47,
      "outputs": [
        {
          "output_type": "stream",
          "text": [
            "loss at iteration 0 is: 963.0146\n",
            "loss at iteration 25 is: 97.8292\n",
            "loss at iteration 50 is: 26.8329\n",
            "loss at iteration 75 is: 9.7893\n",
            "loss at iteration 100 is: 4.3776\n",
            "loss at iteration 125 is: 2.3281\n",
            "loss at iteration 150 is: 1.4480\n",
            "loss at iteration 175 is: 1.0338\n",
            "loss at iteration 200 is: 0.8251\n",
            "loss at iteration 225 is: 0.7145\n",
            "loss at iteration 250 is: 0.6534\n",
            "loss at iteration 275 is: 0.6185\n",
            "loss at iteration 300 is: 0.5981\n",
            "loss at iteration 325 is: 0.5858\n",
            "loss at iteration 350 is: 0.5782\n",
            "loss at iteration 375 is: 0.5735\n"
          ],
          "name": "stdout"
        }
      ]
    },
    {
      "cell_type": "markdown",
      "metadata": {
        "id": "ehrX253aqfuY"
      },
      "source": [
        "<a name=\"2-2\"></a>\n",
        "\n",
        "## 2.2 Testing the translation\n",
        "\n",
        "### k-Nearest neighbors algorithm\n",
        "\n",
        "[k-Nearest neighbors algorithm](https://en.wikipedia.org/wiki/K-nearest_neighbors_algorithm) \n",
        "* k-NN is a method which takes a vector as input and finds the other vectors in the dataset that are closest to it. \n",
        "* The 'k' is the number of \"nearest neighbors\" to find (e.g. k=2 finds the closest two neighbors).\n",
        "\n",
        "### Searching for the translation embedding\n",
        "Since we're approximating the translation function from English to French embeddings by a linear transformation matrix $\\mathbf{R}$, most of the time we won't get the exact embedding of a French word when we transform embedding $\\mathbf{e}$ of some particular English word into the French embedding space. \n",
        "* This is where $k$-NN becomes really useful! By using $1$-NN with $\\mathbf{eR}$ as input, we can search for an embedding $\\mathbf{f}$ (as a row) in the matrix $\\mathbf{Y}$ which is the closest to the transformed vector $\\mathbf{eR}$"
      ]
    },
    {
      "cell_type": "markdown",
      "metadata": {
        "id": "5mRDEq4AqqJP"
      },
      "source": [
        "### Cosine similarity\n",
        "Cosine similarity between vectors $u$ and $v$ calculated as the cosine of the angle between them.\n",
        "The formula is \n",
        "\n",
        "$$\\cos(u,v)=\\frac{u\\cdot v}{\\left\\|u\\right\\|\\left\\|v\\right\\|}$$\n",
        "\n",
        "* $\\cos(u,v)$ = $1$ when $u$ and $v$ lie on the same line and have the same direction.\n",
        "* $\\cos(u,v)$ is $-1$ when they have exactly opposite directions.\n",
        "* $\\cos(u,v)$ is $0$ when the vectors are orthogonal (perpendicular) to each other."
      ]
    },
    {
      "cell_type": "markdown",
      "metadata": {
        "id": "FpAr_K_sq0a_"
      },
      "source": [
        "#### Note: Distance and similarity are pretty much opposite things.\n",
        "* We can obtain distance metric from cosine similarity, but the cosine similarity can't be used directly as the distance metric. \n",
        "* When the cosine similarity increases (towards $1$), the \"distance\" between the two vectors decreases (towards $0$). \n",
        "* We can define the cosine distance between $u$ and $v$ as\n",
        "$$d_{\\text{cos}}(u,v)=1-\\cos(u,v)$$"
      ]
    },
    {
      "cell_type": "markdown",
      "metadata": {
        "id": "ZlqtCYmytzy1"
      },
      "source": [
        "<a name=\"ex-05\"></a>\n",
        "\n",
        "**Exercise 05**: Complete the function `nearest_neighbor()`\n",
        "\n",
        "Inputs:\n",
        "* Vector `v`,\n",
        "* A set of possible nearest neighbors `candidates`\n",
        "* `k` nearest neighbors to find.\n",
        "* The distance metric should be based on cosine similarity.\n",
        "* `cosine_similarity` function is already implemented and imported for you. It's arguments are two vectors and it returns the cosine of the angle between them.\n",
        "* Iterate over rows in `candidates`, and save the result of similarities between current row and vector `v` in a python list. Take care that similarities are in the same order as row vectors of `candidates`.\n",
        "* Now you can use [numpy argsort]( https://docs.scipy.org/doc/numpy/reference/generated/numpy.argsort.html#numpy.argsort) to sort the indices for the rows of `candidates`."
      ]
    },
    {
      "cell_type": "code",
      "metadata": {
        "id": "-Yjwcat8qzRF"
      },
      "source": [
        "def cosine_similarity(A, B):\n",
        "    '''\n",
        "    Input:\n",
        "        A: a numpy array which corresponds to a word vector\n",
        "        B: A numpy array which corresponds to a word vector\n",
        "    Output:\n",
        "        cos: numerical number representing the cosine similarity between A and B.\n",
        "    '''\n",
        "    # you have to set this variable to the true label.\n",
        "    cos = -10\n",
        "    dot = np.dot(A, B)\n",
        "    norma = np.linalg.norm(A)\n",
        "    normb = np.linalg.norm(B)\n",
        "    cos = dot / (norma * normb)\n",
        "\n",
        "    return cos"
      ],
      "execution_count": 49,
      "outputs": []
    },
    {
      "cell_type": "code",
      "metadata": {
        "id": "8vPH9bbnoWjX"
      },
      "source": [
        "# UNQ_C8 (UNIQUE CELL IDENTIFIER, DO NOT EDIT)\n",
        "def nearest_neighbor(v, candidates, k=1):\n",
        "    \"\"\"\n",
        "    Input:\n",
        "      - v, the vector you are going find the nearest neighbor for\n",
        "      - candidates: a set of vectors where we will find the neighbors\n",
        "      - k: top k nearest neighbors to find\n",
        "    Output:\n",
        "      - k_idx: the indices of the top k closest vectors in sorted form\n",
        "    \"\"\"\n",
        "    ### START CODE HERE (REPLACE INSTANCES OF 'None' with your code) ###\n",
        "    similarity_l = []\n",
        "\n",
        "    # for each candidate vector...\n",
        "    for row in candidates:\n",
        "        # get the cosine similarity\n",
        "        cos_similarity = cosine_similarity(v,row)\n",
        "\n",
        "        # append the similarity to the list\n",
        "        similarity_l.append(cos_similarity)\n",
        "        \n",
        "    # sort the similarity list and get the indices of the sorted list\n",
        "    sorted_ids = np.argsort(similarity_l)#[::-1]\n",
        "\n",
        "    # get the indices of the k most similar candidate vectors\n",
        "    k_idx = sorted_ids[-k : ]\n",
        "    ### END CODE HERE ###\n",
        "    return k_idx\n"
      ],
      "execution_count": 50,
      "outputs": []
    },
    {
      "cell_type": "code",
      "metadata": {
        "id": "rdYdsRHsu1iV",
        "outputId": "95bca74e-e696-45e9-e731-9870957a5720",
        "colab": {
          "base_uri": "https://localhost:8080/"
        }
      },
      "source": [
        "#test\n",
        "\n",
        "x = [1,3,2,5,7,100,9,0]\n",
        "x[-3:]"
      ],
      "execution_count": 59,
      "outputs": [
        {
          "output_type": "execute_result",
          "data": {
            "text/plain": [
              "[100, 9, 0]"
            ]
          },
          "metadata": {
            "tags": []
          },
          "execution_count": 59
        }
      ]
    },
    {
      "cell_type": "code",
      "metadata": {
        "id": "bOJs6M0ru8RM",
        "outputId": "c164e430-f49b-46f9-b089-96bae7b70a46",
        "colab": {
          "base_uri": "https://localhost:8080/"
        }
      },
      "source": [
        "# UNQ_C9 (UNIQUE CELL IDENTIFIER, DO NOT EDIT)\n",
        "# You do not have to input any code in this cell, but it is relevant to grading, so please do not change anything\n",
        "\n",
        "# Test your implementation:\n",
        "v = np.array([1, 0, 1])\n",
        "candidates = np.array([[1, 0, 5], [-2, 5, 3], [2, 0, 1], [6, -9, 5], [9, 9, 9]])\n",
        "print(candidates[nearest_neighbor(v, candidates, 3)])"
      ],
      "execution_count": 60,
      "outputs": [
        {
          "output_type": "stream",
          "text": [
            "[[9 9 9]\n",
            " [1 0 5]\n",
            " [2 0 1]]\n"
          ],
          "name": "stdout"
        }
      ]
    },
    {
      "cell_type": "markdown",
      "metadata": {
        "id": "CUg-v1T1vhwy"
      },
      "source": [
        "### Test your translation and compute its accuracy\n",
        "\n",
        "<a name=\"ex-06\"></a>\n",
        "**Exercise 06**:\n",
        "Complete the function `test_vocabulary` which takes in English\n",
        "embedding matrix $X$, French embedding matrix $Y$ and the $R$\n",
        "matrix and returns the accuracy of translations from $X$ to $Y$ by $R$.\n",
        "\n",
        "* Iterate over transformed English word embeddings and check if the\n",
        "closest French word vector belongs to French word that is the actual\n",
        "translation.\n",
        "* Obtain an index of the closest French embedding by using\n",
        "`nearest_neighbor` (with argument `k=1`), and compare it to the index\n",
        "of the English embedding you have just transformed.\n",
        "* Keep track of the number of times you get the correct translation.\n",
        "* Calculate accuracy as $$\\text{accuracy}=\\frac{\\#(\\text{correct predictions})}{\\#(\\text{total predictions})}$$"
      ]
    },
    {
      "cell_type": "code",
      "metadata": {
        "id": "E9VH2WNzve9o"
      },
      "source": [
        "# UNQ_C10 (UNIQUE CELL IDENTIFIER, DO NOT EDIT)\n",
        "def test_vocabulary(X, Y, R):\n",
        "    '''\n",
        "    Input:\n",
        "        X: a matrix where the columns are the English embeddings.\n",
        "        Y: a matrix where the columns correspong to the French embeddings.\n",
        "        R: the transform matrix which translates word embeddings from\n",
        "        English to French word vector space.\n",
        "    Output:\n",
        "        accuracy: for the English to French capitals\n",
        "    '''\n",
        "\n",
        "    ### START CODE HERE (REPLACE INSTANCES OF 'None' with your code) ###\n",
        "    # The prediction is X times R\n",
        "    pred = np.dot(X,R)\n",
        "\n",
        "    # initialize the number correct to zero\n",
        "    num_correct = 0\n",
        "\n",
        "    # loop through each row in pred (each transformed embedding)\n",
        "    for i in range(len(pred)):\n",
        "        # get the index of the nearest neighbor of pred at row 'i'; also pass in the candidates in Y\n",
        "        pred_idx = nearest_neighbor(pred[i], Y )\n",
        "        #print(pred_idx)\n",
        "        # if the index of the nearest neighbor equals the row of i... \\\n",
        "        if pred_idx == i:\n",
        "            # increment the number correct by 1.\n",
        "            num_correct += 1\n",
        "\n",
        "    # accuracy is the number correct divided by the number of rows in 'pred' (also number of rows in X)\n",
        "    accuracy = np.sum(num_correct)/X.shape[0]\n",
        "\n",
        "    ### END CODE HERE ###\n",
        "\n",
        "    return accuracy\n"
      ],
      "execution_count": 64,
      "outputs": []
    },
    {
      "cell_type": "code",
      "metadata": {
        "id": "GLTawUVJxJqq"
      },
      "source": [
        "X_val, Y_val = get_matrices(en_fr_test, fr_embeddings_subset, en_embeddings_subset)"
      ],
      "execution_count": 65,
      "outputs": []
    },
    {
      "cell_type": "code",
      "metadata": {
        "id": "uBSMGz4Xx2cW",
        "outputId": "23ac7d4a-b6f3-4b4e-aef7-3c8a02f6d33e",
        "colab": {
          "base_uri": "https://localhost:8080/"
        }
      },
      "source": [
        "X_val.shape"
      ],
      "execution_count": 67,
      "outputs": [
        {
          "output_type": "execute_result",
          "data": {
            "text/plain": [
              "(1438, 300)"
            ]
          },
          "metadata": {
            "tags": []
          },
          "execution_count": 67
        }
      ]
    },
    {
      "cell_type": "code",
      "metadata": {
        "id": "DiZ9KE93xLmv",
        "outputId": "84355e64-1873-4720-c9ca-d9c7f7d061fa",
        "colab": {
          "base_uri": "https://localhost:8080/"
        }
      },
      "source": [
        "# UNQ_C11 (UNIQUE CELL IDENTIFIER, DO NOT EDIT)\n",
        "# You do not have to input any code in this cell, but it is relevant to grading, so please do not change anything\n",
        "\n",
        "acc = test_vocabulary(X_val, Y_val, R_train)  # this might take a minute or two\n",
        "print(f\"accuracy on test set is {acc:.3f}\")"
      ],
      "execution_count": 66,
      "outputs": [
        {
          "output_type": "stream",
          "text": [
            "accuracy on test set is 0.557\n"
          ],
          "name": "stdout"
        }
      ]
    },
    {
      "cell_type": "code",
      "metadata": {
        "id": "Sr2DTjxu1V_x"
      },
      "source": [
        "def Predict(en_fr_train,english,R_train,fr_emb,eng_emb):\n",
        "  X = eng_emb[english]\n",
        "  Y_pred = np.dot(X,R_train)\n",
        "  similarity_d = {}\n",
        "  for fr,Y in fr_emb.items():\n",
        "      # get the cosine similarity\n",
        "      cos_similarity = cosine_similarity(Y_pred,Y)\n",
        "\n",
        "      # append the similarity to the list\n",
        "      similarity_d[fr]  = cos_similarity\n",
        "  similarity_d = sorted(similarity_d.items(),key = lambda x : x[1],reverse  = True)\n",
        "  return(\"Expected : \",en_fr_train[english],\" ,Predicted : \" ,similarity_d[0][0])\n"
      ],
      "execution_count": 115,
      "outputs": []
    },
    {
      "cell_type": "code",
      "metadata": {
        "id": "oK8IRNHe1dRF",
        "outputId": "d1884ff5-a608-4f82-c78e-542031c2aea7",
        "colab": {
          "base_uri": "https://localhost:8080/"
        }
      },
      "source": [
        "Predict(en_fr_train,'politician',R_train,fr_embeddings_subset,en_embeddings_subset)"
      ],
      "execution_count": 120,
      "outputs": [
        {
          "output_type": "execute_result",
          "data": {
            "text/plain": [
              "('Expected : ', 'politicien', ' ,Predicted : ', 'politicien')"
            ]
          },
          "metadata": {
            "tags": []
          },
          "execution_count": 120
        }
      ]
    },
    {
      "cell_type": "code",
      "metadata": {
        "id": "F0l2BCjq5z3t",
        "outputId": "8f1c83e0-d3aa-4e39-b0d5-4c36fb069c02",
        "colab": {
          "base_uri": "https://localhost:8080/"
        }
      },
      "source": [
        "Predict(en_fr_train,'regular',R_train,fr_embeddings_subset,en_embeddings_subset)"
      ],
      "execution_count": 121,
      "outputs": [
        {
          "output_type": "execute_result",
          "data": {
            "text/plain": [
              "('Expected : ', 'régulier', ' ,Predicted : ', 'régulier')"
            ]
          },
          "metadata": {
            "tags": []
          },
          "execution_count": 121
        }
      ]
    },
    {
      "cell_type": "code",
      "metadata": {
        "id": "ZAxYWvAn54Ly",
        "outputId": "d1f3a105-94b3-4b1c-d7bc-616b1afdf2cd",
        "colab": {
          "base_uri": "https://localhost:8080/"
        }
      },
      "source": [
        "Predict(en_fr_train,'fourth',R_train,fr_embeddings_subset,en_embeddings_subset)"
      ],
      "execution_count": 129,
      "outputs": [
        {
          "output_type": "execute_result",
          "data": {
            "text/plain": [
              "('Expected : ', 'quatrièmement', ' ,Predicted : ', 'cinquième')"
            ]
          },
          "metadata": {
            "tags": []
          },
          "execution_count": 129
        }
      ]
    },
    {
      "cell_type": "code",
      "metadata": {
        "id": "yqeuPd4E6SLX",
        "outputId": "b57be1d1-ea5b-4561-f2df-7e7436e56265",
        "colab": {
          "base_uri": "https://localhost:8080/"
        }
      },
      "source": [
        "Predict(en_fr_train,'sport',R_train,fr_embeddings_subset,en_embeddings_subset)"
      ],
      "execution_count": 130,
      "outputs": [
        {
          "output_type": "execute_result",
          "data": {
            "text/plain": [
              "('Expected : ', 'sport', ' ,Predicted : ', 'sport')"
            ]
          },
          "metadata": {
            "tags": []
          },
          "execution_count": 130
        }
      ]
    },
    {
      "cell_type": "markdown",
      "metadata": {
        "id": "i5z3Lyr36i8p"
      },
      "source": [
        "<a name=\"3\"></a>\n",
        "\n",
        "# 3. LSH and document search\n",
        "\n",
        "In this part of the assignment, you will implement a more efficient version\n",
        "of k-nearest neighbors using locality sensitive hashing.\n",
        "You will then apply this to document search.\n",
        "\n",
        "* Process the tweets and represent each tweet as a vector (represent a\n",
        "document with a vector embedding).\n",
        "* Use locality sensitive hashing and k nearest neighbors to find tweets\n",
        "that are similar to a given tweet."
      ]
    },
    {
      "cell_type": "code",
      "metadata": {
        "id": "HH00EBMx3uyn"
      },
      "source": [
        "# get the positive and negative tweets\n",
        "all_positive_tweets = twitter_samples.strings('positive_tweets.json')\n",
        "all_negative_tweets = twitter_samples.strings('negative_tweets.json')\n",
        "all_tweets = all_positive_tweets + all_negative_tweets"
      ],
      "execution_count": 131,
      "outputs": []
    },
    {
      "cell_type": "markdown",
      "metadata": {
        "id": "zGwNYlIsAq2o"
      },
      "source": [
        "<a name=\"3-1\"></a>\n",
        "\n",
        "### 3.1 Getting the document embeddings\n",
        "\n",
        "#### Bag-of-words (BOW) document models\n",
        "Text documents are sequences of words.\n",
        "* The ordering of words makes a difference. For example, sentences \"Apple pie is\n",
        "better than pepperoni pizza.\" and \"Pepperoni pizza is better than apple pie\"\n",
        "have opposite meanings due to the word ordering.\n",
        "* However, for some applications, ignoring the order of words can allow\n",
        "us to train an efficient and still effective model.\n",
        "* This approach is called Bag-of-words document model.\n",
        "\n",
        "#### Document embeddings\n",
        "* Document embedding is created by summing up the embeddings of all words\n",
        "in the document.\n",
        "* If we don't know the embedding of some word, we can ignore that word."
      ]
    },
    {
      "cell_type": "markdown",
      "metadata": {
        "id": "duOMKZuhAuLq"
      },
      "source": [
        "<a name=\"ex-07\"></a>\n",
        "\n",
        "**Exercise 07**:\n",
        "Complete the `get_document_embedding()` function.\n",
        "* The function `get_document_embedding()` encodes entire document as a \"document\" embedding.\n",
        "* It takes in a docoument (as a string) and a dictionary, `en_embeddings`\n",
        "* It processes the document, and looks up the corresponding embedding of each word.\n",
        "* It then sums them up and returns the sum of all word vectors of that processed tweet."
      ]
    },
    {
      "cell_type": "code",
      "metadata": {
        "id": "XDWFB3ej_7Xn"
      },
      "source": [
        "# UNQ_C12 (UNIQUE CELL IDENTIFIER, DO NOT EDIT)\n",
        "def get_document_embedding(tweet, en_embeddings): \n",
        "    '''\n",
        "    Input:\n",
        "        - tweet: a string\n",
        "        - en_embeddings: a dictionary of word embeddings\n",
        "    Output:\n",
        "        - doc_embedding: sum of all word embeddings in the tweet\n",
        "    '''\n",
        "    doc_embedding = np.zeros(300)\n",
        "\n",
        "    ### START CODE HERE (REPLACE INSTANCES OF 'None' with your code) ###\n",
        "    # process the document into a list of words (process the tweet)\n",
        "    processed_doc = process_tweet(tweet)\n",
        "    for word in processed_doc:\n",
        "        # add the word embedding to the running total for the document embedding\n",
        "        doc_embedding = doc_embedding + en_embeddings.get(word,np.zeros(300))\n",
        "    ### END CODE HERE ###\n",
        "    return doc_embedding\n"
      ],
      "execution_count": 132,
      "outputs": []
    },
    {
      "cell_type": "code",
      "metadata": {
        "id": "ciGUKuWCBabh",
        "outputId": "ccd76523-fde2-4976-88b3-8c8083aba199",
        "colab": {
          "base_uri": "https://localhost:8080/"
        }
      },
      "source": [
        "# UNQ_C13 (UNIQUE CELL IDENTIFIER, DO NOT EDIT)\n",
        "# You do not have to input any code in this cell, but it is relevant to grading, so please do not change anything\n",
        "\n",
        "# testing your function\n",
        "custom_tweet = \"RT @Twitter @chapagain Hello There! Have a great day. :) #good #morning http://chapagain.com.np\"\n",
        "tweet_embedding = get_document_embedding(custom_tweet, en_embeddings_subset)\n",
        "tweet_embedding[-5:]"
      ],
      "execution_count": 137,
      "outputs": [
        {
          "output_type": "execute_result",
          "data": {
            "text/plain": [
              "array([-0.00268555, -0.15378189, -0.55761719, -0.07216644, -0.32263184])"
            ]
          },
          "metadata": {
            "tags": []
          },
          "execution_count": 137
        }
      ]
    },
    {
      "cell_type": "markdown",
      "metadata": {
        "id": "9cuLX__wBxUj"
      },
      "source": [
        "<a name=\"ex-08\"></a>\n",
        "\n",
        "### Exercise 08\n",
        "\n",
        "#### Store all document vectors into a dictionary\n",
        "Now, let's store all the tweet embeddings into a dictionary.\n",
        "Implement `get_document_vecs()`"
      ]
    },
    {
      "cell_type": "code",
      "metadata": {
        "id": "b5Or-QOuBcy1"
      },
      "source": [
        "# UNQ_C14 (UNIQUE CELL IDENTIFIER, DO NOT EDIT)\n",
        "def get_document_vecs(all_docs, en_embeddings):\n",
        "    '''\n",
        "    Input:\n",
        "        - all_docs: list of strings - all tweets in our dataset.\n",
        "        - en_embeddings: dictionary with words as the keys and their embeddings as the values.\n",
        "    Output:\n",
        "        - document_vec_matrix: matrix of tweet embeddings.\n",
        "        - ind2Doc_dict: dictionary with indices of tweets in vecs as keys and their embeddings as the values.\n",
        "    '''\n",
        "\n",
        "    # the dictionary's key is an index (integer) that identifies a specific tweet\n",
        "    # the value is the document embedding for that document\n",
        "    ind2Doc_dict = {}\n",
        "\n",
        "    # this is list that will store the document vectors\n",
        "    document_vec_l = []\n",
        "\n",
        "    for i, doc in enumerate(all_docs):\n",
        "\n",
        "        ### START CODE HERE (REPLACE INSTANCES OF 'None' with your code) ###\n",
        "        # get the document embedding of the tweet\n",
        "        doc_embedding = get_document_embedding(doc, en_embeddings)\n",
        "\n",
        "        # save the document embedding into the ind2Tweet dictionary at index i\n",
        "        ind2Doc_dict[i] = doc_embedding\n",
        "\n",
        "        # append the document embedding to the list of document vectors\n",
        "        document_vec_l.append(ind2Doc_dict[i])\n",
        "\n",
        "        ### END CODE HERE ###\n",
        "\n",
        "    # convert the list of document vectors into a 2D array (each row is a document vector)\n",
        "    document_vec_matrix = np.vstack(document_vec_l)\n",
        "\n",
        "    return document_vec_matrix, ind2Doc_dict\n"
      ],
      "execution_count": 153,
      "outputs": []
    },
    {
      "cell_type": "code",
      "metadata": {
        "id": "qCl-jJ9lChkN"
      },
      "source": [
        "document_vecs, ind2Tweet = get_document_vecs(all_tweets, en_embeddings_subset)"
      ],
      "execution_count": 154,
      "outputs": []
    },
    {
      "cell_type": "code",
      "metadata": {
        "id": "n288rgr8Cjs_",
        "outputId": "b05ac118-5b94-4c3c-f515-3a5a302bb9d5",
        "colab": {
          "base_uri": "https://localhost:8080/"
        }
      },
      "source": [
        "# UNQ_C15 (UNIQUE CELL IDENTIFIER, DO NOT EDIT)\n",
        "# You do not have to input any code in this cell, but it is relevant to grading, so please do not change anything\n",
        "\n",
        "print(f\"length of dictionary {len(ind2Tweet)}\")\n",
        "print(f\"shape of document_vecs {document_vecs.shape}\")"
      ],
      "execution_count": 155,
      "outputs": [
        {
          "output_type": "stream",
          "text": [
            "length of dictionary 10000\n",
            "shape of document_vecs (10000, 300)\n"
          ],
          "name": "stdout"
        }
      ]
    },
    {
      "cell_type": "markdown",
      "metadata": {
        "id": "0fTD4btZCoyC"
      },
      "source": [
        "<a name=\"3-2\"></a>\n",
        "\n",
        "## 3.2 Looking up the tweets\n",
        "\n",
        "Now you have a vector of dimension (m,d) where `m` is the number of tweets\n",
        "(10,000) and `d` is the dimension of the embeddings (300).  Now you\n",
        "will input a tweet, and use cosine similarity to see which tweet in our\n",
        "corpus is similar to your tweet."
      ]
    },
    {
      "cell_type": "code",
      "metadata": {
        "id": "osTGh1dWEdjd"
      },
      "source": [
        "my_tweet = 'i am sad'\n",
        "process_tweet(my_tweet)\n",
        "tweet_embedding = get_document_embedding(my_tweet, en_embeddings_subset)"
      ],
      "execution_count": 164,
      "outputs": []
    },
    {
      "cell_type": "code",
      "metadata": {
        "id": "EIS4QHvNFQR5",
        "outputId": "1d95f2d5-5598-4f3e-d66b-4d6819fea921",
        "colab": {
          "base_uri": "https://localhost:8080/"
        }
      },
      "source": [
        "# UNQ_C16 (UNIQUE CELL IDENTIFIER, DO NOT EDIT)\n",
        "# You do not have to input any code in this cell, but it is relevant to grading, so please do not change anything\n",
        "\n",
        "# this gives you a similar tweet as your input.\n",
        "# this implementation is vectorized...\n",
        "idx = np.argmax(cosine_similarity(document_vecs, tweet_embedding))\n",
        "print(all_tweets[idx])"
      ],
      "execution_count": 165,
      "outputs": [
        {
          "output_type": "stream",
          "text": [
            "@zoeeylim sad sad sad kid :( it's ok I help you watch the match HAHAHAHAHA\n"
          ],
          "name": "stdout"
        }
      ]
    },
    {
      "cell_type": "markdown",
      "metadata": {
        "id": "0ODUK9P-FovE"
      },
      "source": [
        "<a name=\"3-3\"></a>\n",
        "\n",
        "## 3.3 Finding the most similar tweets with LSH\n",
        "\n",
        "You will now implement locality sensitive hashing (LSH) to identify the most similar tweet.\n",
        "* Instead of looking at all 10,000 vectors, you can just search a subset to find\n",
        "its nearest neighbors.\n",
        "\n",
        "Let's say your data points are plotted like this:\n",
        "\n",
        "\n",
        "<div style=\"width:image width px; font-size:100%; text-align:center;\"><img src='https://pqbrxazz.labs.coursera.org/notebooks/Week4/one.png' alt=\"alternate text\" width=\"width\" height=\"height\" style=\"width:400px;height:200px;\" /> Figure 3 </div>\n",
        "\n",
        "You can divide the vector space into regions and search within one region for nearest neighbors of a given vector.\n",
        "\n",
        "<div style=\"width:image width px; font-size:100%; text-align:center;\"><img src='https://pqbrxazz.labs.coursera.org/notebooks/Week4/four.png' alt=\"alternate text\" width=\"width\" height=\"height\" style=\"width:400px;height:200px;\" /> Figure 4 </div>"
      ]
    },
    {
      "cell_type": "code",
      "metadata": {
        "id": "blSMIrOIFT-j"
      },
      "source": [
        ""
      ],
      "execution_count": null,
      "outputs": []
    }
  ]
}