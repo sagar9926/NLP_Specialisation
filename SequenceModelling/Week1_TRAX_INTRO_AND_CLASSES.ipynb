{
  "nbformat": 4,
  "nbformat_minor": 0,
  "metadata": {
    "colab": {
      "name": "Week1_TRAX INTRO AND CLASSES.ipynb",
      "provenance": [],
      "authorship_tag": "ABX9TyPsj9mMpfl1+8CTv7LfmnzV",
      "include_colab_link": true
    },
    "kernelspec": {
      "name": "python3",
      "display_name": "Python 3"
    },
    "language_info": {
      "name": "python"
    },
    "accelerator": "GPU"
  },
  "cells": [
    {
      "cell_type": "markdown",
      "metadata": {
        "id": "view-in-github",
        "colab_type": "text"
      },
      "source": [
        "<a href=\"https://colab.research.google.com/github/sagar9926/NLP_Specialisation/blob/main/SequenceModelling/Week1_TRAX_INTRO_AND_CLASSES.ipynb\" target=\"_parent\"><img src=\"https://colab.research.google.com/assets/colab-badge.svg\" alt=\"Open In Colab\"/></a>"
      ]
    },
    {
      "cell_type": "markdown",
      "metadata": {
        "id": "TKXsHWHfRNn0"
      },
      "source": [
        "# Introduction to TRAX"
      ]
    },
    {
      "cell_type": "markdown",
      "metadata": {
        "id": "3ERxXHzLRi0O"
      },
      "source": [
        "# Trax : Ungraded Lecture Notebook\n",
        "\n",
        "In this notebook you'll get to know about the Trax framework and learn about some of its basic building blocks.\n",
        "\n",
        "\n",
        "\n",
        "## Background\n",
        "\n",
        "### Why Trax and not TensorFlow or PyTorch?\n",
        "\n",
        "TensorFlow and PyTorch are both extensive frameworks that can do almost anything in deep learning. They offer a lot of flexibility, but that often means verbosity of syntax and extra time to code.\n",
        "\n",
        "Trax is much more concise. It runs on a TensorFlow backend but allows you to train models with 1 line commands. Trax also runs end to end, allowing you to get data, model and train all with a single terse statements. This means you can focus on learning, instead of spending hours on the idiosyncrasies of big framework implementation.\n",
        "\n",
        "### Why not Keras then?\n",
        "\n",
        "Keras is now part of Tensorflow itself from 2.0 onwards. Also, trax is good for implementing new state of the art algorithms like Transformers, Reformers, BERT because it is actively maintained by Google Brain Team for advanced deep learning tasks. It runs smoothly on CPUs,GPUs and TPUs as well with comparatively lesser modifications in code.\n",
        "\n",
        "### How to Code in Trax\n",
        "Building models in Trax relies on 2 key concepts:- **layers** and **combinators**.\n",
        "Trax layers are simple objects that process data and perform computations. They can be chained together into composite layers using Trax combinators, allowing you to build layers and models of any complexity.\n",
        "\n",
        "### Trax, JAX, TensorFlow and Tensor2Tensor\n",
        "\n",
        "You already know that Trax uses Tensorflow as a backend, but it also uses the JAX library to speed up computation too. You can view JAX as an enhanced and optimized version of numpy. \n",
        "\n",
        "**Watch out for assignments which import `import trax.fastmath.numpy as np`. If you see this line, remember that when calling `np` you are really calling Trax’s version of numpy that is compatible with JAX.**\n",
        "\n",
        "As a result of this, where you used to encounter the type `numpy.ndarray` now you will find the type `jax.interpreters.xla.DeviceArray`.\n",
        "\n",
        "Tensor2Tensor is another name you might have heard. It started as an end to end solution much like how Trax is designed, but it grew unwieldy and complicated. So you can view Trax as the new improved version that operates much faster and simpler.\n",
        "\n",
        "### Resources\n",
        "\n",
        "- Trax source code can be found on Github: [Trax](https://github.com/google/trax)\n",
        "- JAX library: [JAX](https://jax.readthedocs.io/en/latest/index.html)\n",
        "\n",
        "\n",
        "## Installing Trax\n",
        "\n",
        "Trax has dependencies on JAX and some libraries like JAX which are yet to be supported in [Windows](https://github.com/google/jax/blob/1bc5896ee4eab5d7bb4ec6f161d8b2abb30557be/README.md#installation) but work well in Ubuntu and MacOS. We would suggest that if you are working on Windows, try to install Trax on WSL2. \n",
        "\n",
        "Official maintained documentation - [trax-ml](https://trax-ml.readthedocs.io/en/latest/) not to be confused with this [TraX](https://trax.readthedocs.io/en/latest/index.html)"
      ]
    },
    {
      "cell_type": "code",
      "metadata": {
        "colab": {
          "base_uri": "https://localhost:8080/"
        },
        "id": "W4mZZPFMO9OB",
        "outputId": "1e1ef418-cc01-45d6-c98d-328a4bc6f8fa"
      },
      "source": [
        "#!pip install trax==1.3.1\n",
        "!pip install -q -U trax"
      ],
      "execution_count": 3,
      "outputs": [
        {
          "output_type": "stream",
          "text": [
            "\u001b[K     |████████████████████████████████| 634kB 32.2MB/s \n",
            "\u001b[K     |████████████████████████████████| 153kB 51.6MB/s \n",
            "\u001b[K     |████████████████████████████████| 4.3MB 50.2MB/s \n",
            "\u001b[K     |████████████████████████████████| 2.5MB 50.9MB/s \n",
            "\u001b[K     |████████████████████████████████| 256kB 55.2MB/s \n",
            "\u001b[K     |████████████████████████████████| 3.9MB 45.2MB/s \n",
            "\u001b[K     |████████████████████████████████| 1.2MB 47.6MB/s \n",
            "\u001b[K     |████████████████████████████████| 61kB 9.5MB/s \n",
            "\u001b[K     |████████████████████████████████| 368kB 34.6MB/s \n",
            "\u001b[K     |████████████████████████████████| 3.3MB 43.3MB/s \n",
            "\u001b[K     |████████████████████████████████| 901kB 47.6MB/s \n",
            "\u001b[?25h"
          ],
          "name": "stdout"
        }
      ]
    },
    {
      "cell_type": "markdown",
      "metadata": {
        "id": "GfqCTkh-R9hi"
      },
      "source": [
        "\n",
        "## Imports"
      ]
    },
    {
      "cell_type": "code",
      "metadata": {
        "id": "K9lQ4dSkRd0l"
      },
      "source": [
        "import numpy as np  # regular ol' numpy\n",
        "\n",
        "from trax import layers as tl  # core building block\n",
        "from trax import shapes  # data signatures: dimensionality and type\n",
        "from trax import fastmath  # uses jax, offers numpy on steroids"
      ],
      "execution_count": 4,
      "outputs": []
    },
    {
      "cell_type": "code",
      "metadata": {
        "colab": {
          "base_uri": "https://localhost:8080/"
        },
        "id": "2aKBTdG6SAU4",
        "outputId": "291185f4-dc8b-4324-e99e-4eb7b98ea2d4"
      },
      "source": [
        "# Trax version 1.3.1 or better \n",
        "!pip list | grep trax"
      ],
      "execution_count": 5,
      "outputs": [
        {
          "output_type": "stream",
          "text": [
            "trax                          1.3.9                \n"
          ],
          "name": "stdout"
        }
      ]
    },
    {
      "cell_type": "markdown",
      "metadata": {
        "id": "JTsGHy1kT5BY"
      },
      "source": [
        "## Layers\n",
        "Layers are the core building blocks in Trax or as mentioned in the lectures, they are the base classes.\n",
        "\n",
        "They take inputs, compute functions/custom calculations and return outputs.\n",
        "\n",
        "You can also inspect layer properties. Let me show you some examples.\n",
        "\n",
        "\n",
        "### Relu Layer\n",
        "First I'll show you how to build a relu activation function as a layer. A layer like this is one of the simplest types. Notice there is no object initialization so it works just like a math function.\n",
        "\n",
        "**Note: Activation functions are also layers in Trax, which might look odd if you have been using other frameworks for a longer time.**"
      ]
    },
    {
      "cell_type": "code",
      "metadata": {
        "colab": {
          "base_uri": "https://localhost:8080/"
        },
        "id": "jlUHcCH8SQm-",
        "outputId": "9759cb3c-d15a-4ec4-bac4-03112de94c6c"
      },
      "source": [
        "# Layers\n",
        "# Create a relu trax layer\n",
        "relu = tl.Relu()\n",
        "\n",
        "# Inspect properties\n",
        "print(\"-- Properties --\")\n",
        "print(\"name :\", relu.name)\n",
        "print(\"expected inputs :\", relu.n_in)\n",
        "print(\"promised outputs :\", relu.n_out, \"\\n\")\n",
        "\n",
        "# Inputs\n",
        "x = np.array([-2, -1, 0, 1, 2])\n",
        "print(\"-- Inputs --\")\n",
        "print(\"x :\", x, \"\\n\")\n",
        "\n",
        "# Outputs\n",
        "y = relu(x)\n",
        "print(\"-- Outputs --\")\n",
        "print(\"y :\", y)"
      ],
      "execution_count": 6,
      "outputs": [
        {
          "output_type": "stream",
          "text": [
            "-- Properties --\n",
            "name : Serial\n",
            "expected inputs : 1\n",
            "promised outputs : 1 \n",
            "\n",
            "-- Inputs --\n",
            "x : [-2 -1  0  1  2] \n",
            "\n",
            "-- Outputs --\n",
            "y : [0 0 0 1 2]\n"
          ],
          "name": "stdout"
        }
      ]
    },
    {
      "cell_type": "markdown",
      "metadata": {
        "id": "CrSrTa_nUEwX"
      },
      "source": [
        "### Concatenate Layer\n",
        "Now I'll show you how to build a layer that takes 2 inputs. Notice the change in the expected inputs property from 1 to 2."
      ]
    },
    {
      "cell_type": "code",
      "metadata": {
        "colab": {
          "base_uri": "https://localhost:8080/"
        },
        "id": "3CPBDjAST6-u",
        "outputId": "a1216ee6-5b46-4b9a-ea27-9e48a074ff8c"
      },
      "source": [
        "# Create a concatenate trax layer\n",
        "concat = tl.Concatenate()\n",
        "print(\"-- Properties --\")\n",
        "print(\"name :\", concat.name)\n",
        "print(\"expected inputs :\", concat.n_in)\n",
        "print(\"promised outputs :\", concat.n_out, \"\\n\")\n",
        "\n",
        "# Inputs\n",
        "x1 = np.array([-10, -20, -30])\n",
        "x2 = x1 / -10\n",
        "print(\"-- Inputs --\")\n",
        "print(\"x1 :\", x1)\n",
        "print(\"x2 :\", x2, \"\\n\")\n",
        "\n",
        "# Outputs\n",
        "y = concat([x1, x2])\n",
        "print(\"-- Outputs --\")\n",
        "print(\"y :\", y)"
      ],
      "execution_count": 7,
      "outputs": [
        {
          "output_type": "stream",
          "text": [
            "-- Properties --\n",
            "name : Concatenate\n",
            "expected inputs : 2\n",
            "promised outputs : 1 \n",
            "\n",
            "-- Inputs --\n",
            "x1 : [-10 -20 -30]\n",
            "x2 : [1. 2. 3.] \n",
            "\n",
            "-- Outputs --\n",
            "y : [-10. -20. -30.   1.   2.   3.]\n"
          ],
          "name": "stdout"
        }
      ]
    },
    {
      "cell_type": "markdown",
      "metadata": {
        "id": "YzeQTFrqUOqD"
      },
      "source": [
        "## Layers are Configurable\n",
        "You can change the default settings of layers. For example, you can change the expected inputs for a concatenate layer from 2 to 3 using the optional parameter `n_items`."
      ]
    },
    {
      "cell_type": "code",
      "metadata": {
        "colab": {
          "base_uri": "https://localhost:8080/"
        },
        "id": "SxIgaKDTUGa6",
        "outputId": "972af04a-76dc-4f24-ff02-1c8202e278d9"
      },
      "source": [
        "# Configure a concatenate layer\n",
        "concat_3 = tl.Concatenate(n_items=3)  # configure the layer's expected inputs\n",
        "print(\"-- Properties --\")\n",
        "print(\"name :\", concat_3.name)\n",
        "print(\"expected inputs :\", concat_3.n_in)\n",
        "print(\"promised outputs :\", concat_3.n_out, \"\\n\")\n",
        "\n",
        "# Inputs\n",
        "x1 = np.array([-10, -20, -30])\n",
        "x2 = x1 / -10\n",
        "x3 = x2 * 0.99\n",
        "print(\"-- Inputs --\")\n",
        "print(\"x1 :\", x1)\n",
        "print(\"x2 :\", x2)\n",
        "print(\"x3 :\", x3, \"\\n\")\n",
        "\n",
        "# Outputs\n",
        "y = concat_3([x1, x2, x3])\n",
        "print(\"-- Outputs --\")\n",
        "print(\"y :\", y)"
      ],
      "execution_count": 10,
      "outputs": [
        {
          "output_type": "stream",
          "text": [
            "-- Properties --\n",
            "name : Concatenate\n",
            "expected inputs : 3\n",
            "promised outputs : 1 \n",
            "\n",
            "-- Inputs --\n",
            "x1 : [-10 -20 -30]\n",
            "x2 : [1. 2. 3.]\n",
            "x3 : [0.99 1.98 2.97] \n",
            "\n",
            "-- Outputs --\n",
            "y : [-10.   -20.   -30.     1.     2.     3.     0.99   1.98   2.97]\n"
          ],
          "name": "stdout"
        }
      ]
    },
    {
      "cell_type": "markdown",
      "metadata": {
        "id": "fOrlX2V-UWV_"
      },
      "source": [
        "**Note: At any point,if you want to refer the function help/ look up the [documentation](https://trax-ml.readthedocs.io/en/latest/) or use help function.**"
      ]
    },
    {
      "cell_type": "code",
      "metadata": {
        "id": "pn9Cjz3cUYkb"
      },
      "source": [
        "#help(tl.Concatenate) #Uncomment this to see the function docstring with explaination"
      ],
      "execution_count": 11,
      "outputs": []
    },
    {
      "cell_type": "markdown",
      "metadata": {
        "id": "gKJbRJ5tUgwO"
      },
      "source": [
        "## Layers can have Weights\n",
        "Some layer types include mutable weights and biases that are used in computation and training. Layers of this type require initialization before use.\n",
        "\n",
        "For example the `LayerNorm` layer calculates normalized data, that is also scaled by weights and biases. During initialization you pass the data shape and data type of the inputs, so the layer can initialize compatible arrays of weights and biases."
      ]
    },
    {
      "cell_type": "code",
      "metadata": {
        "id": "18rjiVrYUaPF"
      },
      "source": [
        "# Uncomment any of them to see information regarding the function\n",
        "#help(tl.LayerNorm)\n",
        "#help(shapes.signature)\n"
      ],
      "execution_count": 15,
      "outputs": []
    },
    {
      "cell_type": "code",
      "metadata": {
        "colab": {
          "base_uri": "https://localhost:8080/"
        },
        "id": "Oc6e32cAUqm4",
        "outputId": "b2e2aa55-e287-42c6-a4d5-4f977bedf0ff"
      },
      "source": [
        "# Layer initialization\n",
        "norm = tl.LayerNorm()\n",
        "# You first must know what the input data will look like\n",
        "x = np.array([0, 1, 2, 3], dtype=\"float\")\n",
        "\n",
        "# Use the input data signature to get shape and type for initializing weights and biases\n",
        "norm.init(shapes.signature(x)) # We need to convert the input datatype from usual tuple to trax ShapeDtype\n",
        "\n",
        "print(\"Normal shape:\",x.shape, \"Data Type:\",type(x.shape))\n",
        "print(\"Shapes Trax:\",shapes.signature(x),\"Data Type:\",type(shapes.signature(x)))\n",
        "\n",
        "# Inspect properties\n",
        "print(\"-- Properties --\")\n",
        "print(\"name :\", norm.name)\n",
        "print(\"expected inputs :\", norm.n_in)\n",
        "print(\"promised outputs :\", norm.n_out)\n",
        "# Weights and biases\n",
        "print(\"weights :\", norm.weights[0])\n",
        "print(\"biases :\", norm.weights[1], \"\\n\")\n",
        "\n",
        "# Inputs\n",
        "print(\"-- Inputs --\")\n",
        "print(\"x :\", x)\n",
        "\n",
        "# Outputs\n",
        "y = norm(x)\n",
        "print(\"-- Outputs --\")\n",
        "print(\"y :\", y)"
      ],
      "execution_count": 16,
      "outputs": [
        {
          "output_type": "stream",
          "text": [
            "/usr/local/lib/python3.7/dist-packages/jax/_src/numpy/lax_numpy.py:3044: UserWarning: Explicitly requested dtype float64 requested in ones is not available, and will be truncated to dtype float32. To enable more dtypes, set the jax_enable_x64 configuration option or the JAX_ENABLE_X64 shell environment variable. See https://github.com/google/jax#current-gotchas for more.\n",
            "  lax._check_user_dtype_supported(dtype, \"ones\")\n",
            "/usr/local/lib/python3.7/dist-packages/jax/_src/numpy/lax_numpy.py:3035: UserWarning: Explicitly requested dtype float64 requested in zeros is not available, and will be truncated to dtype float32. To enable more dtypes, set the jax_enable_x64 configuration option or the JAX_ENABLE_X64 shell environment variable. See https://github.com/google/jax#current-gotchas for more.\n",
            "  lax._check_user_dtype_supported(dtype, \"zeros\")\n"
          ],
          "name": "stderr"
        },
        {
          "output_type": "stream",
          "text": [
            "Normal shape: (4,) Data Type: <class 'tuple'>\n",
            "Shapes Trax: ShapeDtype{shape:(4,), dtype:float64} Data Type: <class 'trax.shapes.ShapeDtype'>\n",
            "-- Properties --\n",
            "name : LayerNorm\n",
            "expected inputs : 1\n",
            "promised outputs : 1\n",
            "weights : [1. 1. 1. 1.]\n",
            "biases : [0. 0. 0. 0.] \n",
            "\n",
            "-- Inputs --\n",
            "x : [0. 1. 2. 3.]\n",
            "-- Outputs --\n",
            "y : [-1.3416404  -0.44721344  0.44721344  1.3416404 ]\n"
          ],
          "name": "stdout"
        }
      ]
    },
    {
      "cell_type": "markdown",
      "metadata": {
        "id": "JFJRLZqPVOuo"
      },
      "source": [
        "## Custom Layers\n",
        "This is where things start getting more interesting!\n",
        "You can create your own custom layers too and define custom functions for computations by using `tl.Fn`. Let me show you how."
      ]
    },
    {
      "cell_type": "code",
      "metadata": {
        "colab": {
          "base_uri": "https://localhost:8080/"
        },
        "id": "ITpfEgBkU_t-",
        "outputId": "f696af55-69bd-4601-9d5c-8fa80183bc9c"
      },
      "source": [
        "# Define a custom layer\n",
        "# In this example you will create a layer to calculate the input times 2\n",
        "\n",
        "def TimesTwo():\n",
        "    layer_name = \"TimesTwo\" #don't forget to give your custom layer a name to identify\n",
        "\n",
        "    # Custom function for the custom layer\n",
        "    def func(x):\n",
        "        return x * 2\n",
        "\n",
        "    return tl.Fn(layer_name, func)\n",
        "\n",
        "\n",
        "# Test it\n",
        "times_two = TimesTwo()\n",
        "\n",
        "# Inspect properties\n",
        "print(\"-- Properties --\")\n",
        "print(\"name :\", times_two.name)\n",
        "print(\"expected inputs :\", times_two.n_in)\n",
        "print(\"promised outputs :\", times_two.n_out, \"\\n\")\n",
        "\n",
        "# Inputs\n",
        "x = np.array([1, 2, 3])\n",
        "print(\"-- Inputs --\")\n",
        "print(\"x :\", x, \"\\n\")\n",
        "\n",
        "# Outputs\n",
        "y = times_two(x)\n",
        "print(\"-- Outputs --\")\n",
        "print(\"y :\", y)"
      ],
      "execution_count": 17,
      "outputs": [
        {
          "output_type": "stream",
          "text": [
            "-- Properties --\n",
            "name : TimesTwo\n",
            "expected inputs : 1\n",
            "promised outputs : 1 \n",
            "\n",
            "-- Inputs --\n",
            "x : [1 2 3] \n",
            "\n",
            "-- Outputs --\n",
            "y : [2 4 6]\n"
          ],
          "name": "stdout"
        }
      ]
    },
    {
      "cell_type": "markdown",
      "metadata": {
        "id": "y7Y9yKruV2-q"
      },
      "source": [
        "## Combinators\n",
        "You can combine layers to build more complex layers. Trax provides a set of objects named combinator layers to make this happen. Combinators are themselves layers, so behavior commutes.\n",
        "\n",
        "\n",
        "\n",
        "### Serial Combinator\n",
        "This is the most common and easiest to use. For example could build a simple neural network by combining layers into a single layer using the `Serial` combinator. This new layer then acts just like a single layer, so you can inspect intputs, outputs and weights. Or even combine it into another layer! Combinators can then be used as trainable models. _Try adding more layers_\n",
        "\n",
        "**Note:As you must have guessed, if there is serial combinator, there must be a parallel combinator as well. Do try to explore about combinators and other layers from the trax documentation and look at the repo to understand how these layers are written.**\n"
      ]
    },
    {
      "cell_type": "code",
      "metadata": {
        "id": "OxmnDkIDVz5a"
      },
      "source": [
        "#help(tl.Serial)\n",
        "#help(tl.Parallel)"
      ],
      "execution_count": 20,
      "outputs": []
    },
    {
      "cell_type": "code",
      "metadata": {
        "colab": {
          "base_uri": "https://localhost:8080/"
        },
        "id": "4_6Idg3JWdOb",
        "outputId": "9aea2077-3caa-4701-e55b-c771a8a36ec0"
      },
      "source": [
        "# Serial combinator\n",
        "serial = tl.Serial(\n",
        "    tl.LayerNorm(),         # normalize input\n",
        "    #tl.Relu(),              # convert negative values to zero\n",
        "    #times_two,              # the custom layer you created above, multiplies the input recieved from above by 2\n",
        "    \n",
        "    ### START CODE HERE\n",
        "#     tl.Dense(n_units=2),  # try adding more layers. eg uncomment these lines\n",
        "#     tl.Dense(n_units=1),  # Binary classification, maybe? uncomment at your own peril\n",
        "#     tl.LogSoftmax()       # Yes, LogSoftmax is also a layer\n",
        "    ### END CODE HERE\n",
        ")\n",
        "\n",
        "# Initialization\n",
        "x = np.array([[-2, -1, 0, 1, 2],[12,2,4,6,1]]) #input\n",
        "serial.init(shapes.signature(x)) #initialising serial instance\n",
        "\n",
        "print(\"-- Serial Model --\")\n",
        "print(serial,\"\\n\")\n",
        "print(\"-- Properties --\")\n",
        "print(\"name :\", serial.name)\n",
        "print(\"sublayers :\", serial.sublayers)\n",
        "print(\"expected inputs :\", serial.n_in)\n",
        "print(\"promised outputs :\", serial.n_out)\n",
        "print(\"weights & biases:\", serial.weights, \"\\n\")\n",
        "\n",
        "# Inputs\n",
        "print(\"-- Inputs --\")\n",
        "print(\"x :\", x, \"\\n\")\n",
        "\n",
        "# Outputs\n",
        "y = serial(x)\n",
        "print(\"-- Outputs --\")\n",
        "print(\"y :\", y)"
      ],
      "execution_count": 27,
      "outputs": [
        {
          "output_type": "stream",
          "text": [
            "/usr/local/lib/python3.7/dist-packages/jax/_src/numpy/lax_numpy.py:3044: UserWarning: Explicitly requested dtype int64 requested in ones is not available, and will be truncated to dtype int32. To enable more dtypes, set the jax_enable_x64 configuration option or the JAX_ENABLE_X64 shell environment variable. See https://github.com/google/jax#current-gotchas for more.\n",
            "  lax._check_user_dtype_supported(dtype, \"ones\")\n",
            "/usr/local/lib/python3.7/dist-packages/jax/_src/numpy/lax_numpy.py:3035: UserWarning: Explicitly requested dtype int64 requested in zeros is not available, and will be truncated to dtype int32. To enable more dtypes, set the jax_enable_x64 configuration option or the JAX_ENABLE_X64 shell environment variable. See https://github.com/google/jax#current-gotchas for more.\n",
            "  lax._check_user_dtype_supported(dtype, \"zeros\")\n"
          ],
          "name": "stderr"
        },
        {
          "output_type": "stream",
          "text": [
            "-- Serial Model --\n",
            "Serial[\n",
            "  LayerNorm\n",
            "] \n",
            "\n",
            "-- Properties --\n",
            "name : Serial\n",
            "sublayers : [LayerNorm]\n",
            "expected inputs : 1\n",
            "promised outputs : 1\n",
            "weights & biases: ((DeviceArray([1, 1, 1, 1, 1], dtype=int32), DeviceArray([0, 0, 0, 0, 0], dtype=int32)),) \n",
            "\n",
            "-- Inputs --\n",
            "x : [[-2 -1  0  1  2]\n",
            " [12  2  4  6  1]] \n",
            "\n",
            "-- Outputs --\n",
            "y : [[-1.4142132  -0.7071066   0.          0.7071066   1.4142132 ]\n",
            " [ 1.7954621  -0.76948375 -0.25649458  0.25649458 -1.0259783 ]]\n"
          ],
          "name": "stdout"
        }
      ]
    },
    {
      "cell_type": "markdown",
      "metadata": {
        "id": "S-RoSgs8YUFE"
      },
      "source": [
        "## JAX\n",
        "Just remember to lookout for which numpy you are using, the regular ol' numpy or Trax's JAX compatible numpy. Both tend to use the alias np so watch those import blocks.\n",
        "\n",
        "**Note:There are certain things which are still not possible in fastmath.numpy which can be done in numpy so you will see in assignments we will switch between them to get our work done.**"
      ]
    },
    {
      "cell_type": "code",
      "metadata": {
        "colab": {
          "base_uri": "https://localhost:8080/"
        },
        "id": "iKdKYogCWzHk",
        "outputId": "9711384c-3c2b-4f91-8e0c-f5ebd5e372b5"
      },
      "source": [
        "# Numpy vs fastmath.numpy have different data types\n",
        "# Regular ol' numpy\n",
        "x_numpy = np.array([1, 2, 3])\n",
        "print(\"good old numpy : \", type(x_numpy), \"\\n\")\n",
        "\n",
        "# Fastmath and jax numpy\n",
        "x_jax = fastmath.numpy.array([1, 2, 3])\n",
        "print(\"jax trax numpy : \", type(x_jax))"
      ],
      "execution_count": 24,
      "outputs": [
        {
          "output_type": "stream",
          "text": [
            "good old numpy :  <class 'numpy.ndarray'> \n",
            "\n",
            "jax trax numpy :  <class 'jaxlib.xla_extension.DeviceArray'>\n"
          ],
          "name": "stdout"
        }
      ]
    },
    {
      "cell_type": "markdown",
      "metadata": {
        "id": "At8VF4MNaTf2"
      },
      "source": [
        "# Classes and subclasses \n",
        "\n",
        "In this notebook, I will show you the basics of classes and subclasses in Python. As you've seen in the lectures from this week, `Trax` uses layer classes as building blocks for deep learning models, so it is important to understand how classes and subclasses behave in order to be able to build custom layers when needed. \n",
        "\n",
        "By completing this notebook, you will:\n",
        "\n",
        "- Be able to define classes and subclasses in Python\n",
        "- Understand how inheritance works in subclasses\n",
        "- Be able to work with instances"
      ]
    },
    {
      "cell_type": "markdown",
      "metadata": {
        "id": "txr0vSRVacCc"
      },
      "source": [
        "# Part 1: Parameters, methods and instances\n",
        "\n",
        "First, let's define a class `My_Class`. "
      ]
    },
    {
      "cell_type": "code",
      "metadata": {
        "id": "zz1YMgU_YWGR"
      },
      "source": [
        "class My_Class: #Definition of My_class\n",
        "    x = None    \n",
        "    "
      ],
      "execution_count": 29,
      "outputs": []
    },
    {
      "cell_type": "markdown",
      "metadata": {
        "id": "kJxsFrtuczrZ"
      },
      "source": [
        "`My_Class`  has one parameter `x` without any value. You can think of parameters as the variables that every object assigned to a class will have. So, at this point, any object of class `My_Class` would have a variable `x` equal to `None`. To check this,  I'll create two instances of that class and get the value of `x` for both of them."
      ]
    },
    {
      "cell_type": "code",
      "metadata": {
        "colab": {
          "base_uri": "https://localhost:8080/"
        },
        "id": "Ce0ooyUvcxA1",
        "outputId": "e56448dd-e4eb-4e15-ccee-b0ec9c924ae4"
      },
      "source": [
        "instance_a= My_Class() #To create an instance from class \"My_Class\" you have to call \"My_Class\"\n",
        "instance_b= My_Class()\n",
        "print('Parameter x of instance_a: ' + str(instance_a.x)) #To get a parameter 'x' from an instance 'a', write 'a.x'\n",
        "print('Parameter x of instance_b: ' + str(instance_b.x))"
      ],
      "execution_count": 30,
      "outputs": [
        {
          "output_type": "stream",
          "text": [
            "Parameter x of instance_a: None\n",
            "Parameter x of instance_b: None\n"
          ],
          "name": "stdout"
        }
      ]
    },
    {
      "cell_type": "markdown",
      "metadata": {
        "id": "J63-xYTgdIj9"
      },
      "source": [
        "For an existing instance you can assign new values for any of its parameters. In the next cell, assign a value of `5` to the parameter `x` of `instance_a`."
      ]
    },
    {
      "cell_type": "code",
      "metadata": {
        "colab": {
          "base_uri": "https://localhost:8080/"
        },
        "id": "bo3gPBuZc5nH",
        "outputId": "70462991-90a3-41d7-be18-1298f5e8e6ea"
      },
      "source": [
        "### START CODE HERE (1 line) ### \n",
        "instance_a.x = 5\n",
        "### END CODE HERE ###\n",
        "print('Parameter x of instance_a: ' + str(instance_a.x))"
      ],
      "execution_count": 31,
      "outputs": [
        {
          "output_type": "stream",
          "text": [
            "Parameter x of instance_a: 5\n"
          ],
          "name": "stdout"
        }
      ]
    },
    {
      "cell_type": "markdown",
      "metadata": {
        "id": "ipntNU4ldRhb"
      },
      "source": [
        "## 1.1 The `__init__` method\n",
        "\n",
        "When you want to assign values to the parameters of your class when an instance is created, it is necessary to define a special method: `__init__`. The `__init__` method is called when you create an instance of a class. It can have multiple arguments to initialize the paramenters of your instance. In the next cell I will define `My_Class` with an `__init__` method that takes the instance (`self`) and an argument `y` as inputs."
      ]
    },
    {
      "cell_type": "code",
      "metadata": {
        "id": "Lv9vQBIsdOv0"
      },
      "source": [
        "class My_Class: \n",
        "    def __init__(self, y): # The __init__ method takes as input the instance to be initialized and a variable y\n",
        "        self.x = y         # Sets parameter x to be equal to y"
      ],
      "execution_count": 32,
      "outputs": []
    },
    {
      "cell_type": "markdown",
      "metadata": {
        "id": "qCHw0Xn-dZJ2"
      },
      "source": [
        "In this case, the parameter `x` of an instance from `My_Class` would take the value of an argument `y`. \n",
        "The argument `self` is used to pass information from the instance being created to the method `__init__`. In the next cell, create an instance `instance_c`, with `x` equal to `10`."
      ]
    },
    {
      "cell_type": "code",
      "metadata": {
        "colab": {
          "base_uri": "https://localhost:8080/"
        },
        "id": "GVwdaoEgdWiT",
        "outputId": "7f7be07c-0492-4e75-d03a-c07145dcced6"
      },
      "source": [
        "### START CODE HERE (1 line) ### \n",
        "instance_c = My_Class(10)\n",
        "### END CODE HERE ###\n",
        "print('Parameter x of instance_c: ' + str(instance_c.x))"
      ],
      "execution_count": 33,
      "outputs": [
        {
          "output_type": "stream",
          "text": [
            "Parameter x of instance_c: 10\n"
          ],
          "name": "stdout"
        }
      ]
    },
    {
      "cell_type": "markdown",
      "metadata": {
        "id": "sSLyk9jEdjSu"
      },
      "source": [
        "Note that in this case, you had to pass the argument `y` from the `__init__` method to create an instance of `My_Class`.\n",
        "\n",
        "## 1.2 The `__call__` method\n",
        "\n",
        "Another important method is the `__call__` method. It is performed whenever you call an initialized instance of a class. It can have multiple arguments and you can define it to do whatever you want like\n",
        "\n",
        "- Change a parameter, \n",
        "- Print a message,\n",
        "- Create new variables, etc.\n",
        "\n",
        "In the next cell, I'll define `My_Class` with the same `__init__` method as before and with a `__call__` method that adds `z` to parameter `x` and prints the result."
      ]
    },
    {
      "cell_type": "code",
      "metadata": {
        "id": "a9ozWjcUdb97"
      },
      "source": [
        "class My_Class: \n",
        "    def __init__(self, y): # The __init__ method takes as input the instance to be initialized and a variable y\n",
        "        self.x = y         # Sets parameter x to be equal to y\n",
        "    def __call__(self, z): # __call__ method with self and z as arguments\n",
        "        self.x += z        # Adds z to parameter x when called \n",
        "        print(self.x)"
      ],
      "execution_count": 34,
      "outputs": []
    },
    {
      "cell_type": "markdown",
      "metadata": {
        "id": "M3yRCpp6dvsA"
      },
      "source": [
        "Let’s create `instance_d` with `x` equal to 5."
      ]
    },
    {
      "cell_type": "code",
      "metadata": {
        "id": "Gy4nUvoHduv8"
      },
      "source": [
        "instance_d = My_Class(5)"
      ],
      "execution_count": 36,
      "outputs": []
    },
    {
      "cell_type": "code",
      "metadata": {
        "colab": {
          "base_uri": "https://localhost:8080/"
        },
        "id": "Iqml0_Bfdx7f",
        "outputId": "518bb7b7-3c81-4313-9895-507f546f7221"
      },
      "source": [
        "instance_d(10)"
      ],
      "execution_count": 37,
      "outputs": [
        {
          "output_type": "stream",
          "text": [
            "15\n"
          ],
          "name": "stdout"
        }
      ]
    },
    {
      "cell_type": "markdown",
      "metadata": {
        "id": "5ooWLaiHekwK"
      },
      "source": [
        "Now, you are ready to complete the following cell so any instance from `My_Class`:\n",
        "\n",
        "- Is initialized taking two arguments `y` and `z` and assigns them to `x_1` and `x_2`, respectively. And, \n",
        "- When called, takes the values of the parameters `x_1` and `x_2`, sums them, prints  and returns the result."
      ]
    },
    {
      "cell_type": "code",
      "metadata": {
        "id": "O0ZxRFFreiMo"
      },
      "source": [
        "class My_Class: \n",
        "    def __init__(self, y, z): #Initialization of x_1 and x_2 with arguments y and z\n",
        "        ### START CODE HERE (2 lines) ### \n",
        "        self.x_1 = y\n",
        "        self.x_2 = z\n",
        "        ### END CODE HERE ###\n",
        "    def __call__(self):       #When called, adds the values of parameters x_1 and x_2, prints and returns the result \n",
        "        ### START CODE HERE (1 line) ### \n",
        "        result = self.x_1 + self.x_2 \n",
        "        ### END CODE HERE ### \n",
        "        print(\"Addition of {} and {} is {}\".format(self.x_1,self.x_2,result))\n",
        "        return result"
      ],
      "execution_count": 38,
      "outputs": []
    },
    {
      "cell_type": "code",
      "metadata": {
        "colab": {
          "base_uri": "https://localhost:8080/"
        },
        "id": "FFiC5gxEex-B",
        "outputId": "0370efdd-1521-4a63-bd0a-32b15cfa15b2"
      },
      "source": [
        "instance_e = My_Class(10,15)\n",
        "def test_class_definition():\n",
        "    \n",
        "    assert instance_e.x_1 == 10, \"Check the value assigned to x_1\"\n",
        "    assert instance_e.x_2 == 15, \"Check the value assigned to x_2\"\n",
        "    assert instance_e() == 25, \"Check the __call__ method\"\n",
        "    \n",
        "    print(\"\\033[92mAll tests passed!\")\n",
        "    \n",
        "test_class_definition()"
      ],
      "execution_count": 39,
      "outputs": [
        {
          "output_type": "stream",
          "text": [
            "Addition of 10 and 15 is 25\n",
            "\u001b[92mAll tests passed!\n"
          ],
          "name": "stdout"
        }
      ]
    },
    {
      "cell_type": "markdown",
      "metadata": {
        "id": "nWqfOkFIe7Zr"
      },
      "source": [
        "## 1.3 Custom methods\n",
        "\n",
        "In addition to the `__init__` and `__call__` methods, your classes can have custom-built methods to do whatever you want when called. To define a custom method, you have to indicate its input arguments, the instructions that you want it to perform and the values to return (if any). In the next cell, `My_Class` is defined with `my_method` that multiplies the values of `x_1` and `x_2`, sums that product with an input `w`, and returns the result."
      ]
    },
    {
      "cell_type": "code",
      "metadata": {
        "id": "Td5vqyRwe00q"
      },
      "source": [
        "class My_Class: \n",
        "    def __init__(self, y, z): #Initialization of x_1 and x_2 with arguments y and z\n",
        "        self.x_1 = y\n",
        "        self.x_2 = z\n",
        "    def __call__(self):       #Performs an operation with x_1 and x_2, and returns the result\n",
        "        a = self.x_1 - 2*self.x_2 \n",
        "        return a\n",
        "    def my_method(self, w):   #Multiplies x_1 and x_2, adds argument w and returns the result\n",
        "        result = self.x_1*self.x_2 + w\n",
        "        return result"
      ],
      "execution_count": 40,
      "outputs": []
    },
    {
      "cell_type": "markdown",
      "metadata": {
        "id": "upqTWzK8fODR"
      },
      "source": [
        "Create an instance `instance_f` of `My_Class` with any integer values that you want for `x_1` and `x_2`. For that instance, see the result of calling `My_method`, with an argument `w` equal to `16`."
      ]
    },
    {
      "cell_type": "code",
      "metadata": {
        "colab": {
          "base_uri": "https://localhost:8080/"
        },
        "id": "pC6X9YuTfLbD",
        "outputId": "a88161e1-64ed-43aa-aeb6-d94f2d3f5846"
      },
      "source": [
        "### START CODE HERE (1 line) ### \n",
        "instance_f = My_Class(1,10)\n",
        "### END CODE HERE ### \n",
        "print(\"Output of my_method:\",instance_f.my_method(16))"
      ],
      "execution_count": 41,
      "outputs": [
        {
          "output_type": "stream",
          "text": [
            "Output of my_method: 26\n"
          ],
          "name": "stdout"
        }
      ]
    },
    {
      "cell_type": "markdown",
      "metadata": {
        "id": "8h33i6dYfamv"
      },
      "source": [
        "As you can corroborate in the previous cell, to call a custom method `m`, with arguments `args`, for an instance `i` you must write `i.m(args)`. With that in mind, methods can call others within a class. In the following cell, try to define `new_method` which calls `my_method` with `v` as input argument. Try to do this on your own in the cell given below.\n",
        "\n"
      ]
    },
    {
      "cell_type": "code",
      "metadata": {
        "id": "dwBCF_bIfQ1F"
      },
      "source": [
        "# hidden-cell\n",
        "class My_Class: \n",
        "    def __init__(self, y, z):      #Initialization of x_1 and x_2 with arguments y and z\n",
        "        self.x_1 = y\n",
        "        self.x_2 = z\n",
        "    def __call__(self):            #Performs an operation with x_1 and x_2, and returns the result\n",
        "        a = self.x_1 - 2*self.x_2 \n",
        "        return a\n",
        "    def my_method(self, w):        #Multiplies x_1 and x_2, adds argument w and returns the result\n",
        "        b = self.x_1*self.x_2 + w\n",
        "        return b\n",
        "    def new_method(self, v):       #Calls My_method with argument v\n",
        "        result = self.my_method(v)\n",
        "        return result"
      ],
      "execution_count": 42,
      "outputs": []
    },
    {
      "cell_type": "code",
      "metadata": {
        "colab": {
          "base_uri": "https://localhost:8080/"
        },
        "id": "gKfV1P1dfqbM",
        "outputId": "9a2bc882-3843-44c1-aa9a-2b61a0058d09"
      },
      "source": [
        "instance_g = My_Class(1,10)\n",
        "print(\"Output of my_method:\",instance_g.my_method(16))\n",
        "print(\"Output of new_method:\",instance_g.new_method(16))"
      ],
      "execution_count": 43,
      "outputs": [
        {
          "output_type": "stream",
          "text": [
            "Output of my_method: 26\n",
            "Output of new_method: 26\n"
          ],
          "name": "stdout"
        }
      ]
    },
    {
      "cell_type": "markdown",
      "metadata": {
        "id": "lA0oo5oEfxL0"
      },
      "source": [
        "# Part 2: Subclasses and Inheritance\n",
        "\n",
        "`Trax` uses classes and subclasses to define layers. The base class in `Trax` is `layer`, which means that every layer from a deep learning model is defined as a subclass of the `layer` class. In this part of the notebook, you are going to see how subclasses work. To define a subclass `sub` from class `super`, you have to write `class sub(super):` and define any method and parameter that you want for your subclass. In the next cell, I define `sub_c` as a subclass of `My_Class` with only one method (`additional_method`)."
      ]
    },
    {
      "cell_type": "code",
      "metadata": {
        "id": "p613l_2MfsFz"
      },
      "source": [
        "class sub_c(My_Class):           #Subclass sub_c from My_class\n",
        "    def additional_method(self): #Prints the value of parameter x_1\n",
        "        print(self.x_1)"
      ],
      "execution_count": 44,
      "outputs": []
    },
    {
      "cell_type": "markdown",
      "metadata": {
        "id": "l_tEUR_5gATu"
      },
      "source": [
        "## 2.1 Inheritance\n",
        "\n",
        "When you define a subclass `sub`, every method and parameter is inherited from `super` class, including the `__init__` and `__call__` methods. This means that any instance from `sub` can use the methods defined in `super`.  Run the following cell and see for yourself."
      ]
    },
    {
      "cell_type": "code",
      "metadata": {
        "colab": {
          "base_uri": "https://localhost:8080/"
        },
        "id": "42ibEsPGf9ur",
        "outputId": "8620efad-874c-4131-ae05-b65ad8147ba0"
      },
      "source": [
        "instance_sub_a = sub_c(1,10)\n",
        "print('Parameter x_1 of instance_sub_a: ' + str(instance_sub_a.x_1))\n",
        "print('Parameter x_2 of instance_sub_a: ' + str(instance_sub_a.x_2))\n",
        "print(\"Output of my_method of instance_sub_a:\",instance_sub_a.my_method(16))\n"
      ],
      "execution_count": 45,
      "outputs": [
        {
          "output_type": "stream",
          "text": [
            "Parameter x_1 of instance_sub_a: 1\n",
            "Parameter x_2 of instance_sub_a: 10\n",
            "Output of my_method of instance_sub_a: 26\n"
          ],
          "name": "stdout"
        }
      ]
    },
    {
      "cell_type": "markdown",
      "metadata": {
        "id": "v4t4zJd-gjZF"
      },
      "source": [
        "As you can see, `sub_c` does not have an initialization method `__init__`, it is inherited from `My_class`. However, you can overwrite any method you want by defining it again in the subclass. For instance, in the next cell define a class `sub_c` with a redefined `my_Method` that multiplies `x_1` and `x_2` but does not add any additional argument."
      ]
    },
    {
      "cell_type": "code",
      "metadata": {
        "id": "DYcsSO4Dgcjh"
      },
      "source": [
        "class sub_c(My_Class):           #Subclass sub_c from My_class\n",
        "    def my_method(self):         #Multiplies x_1 and x_2 and returns the result\n",
        "        ### START CODE HERE (1 line) ###\n",
        "        b = self.x_1*self.x_2 \n",
        "        ### END CODE HERE ###\n",
        "        return b"
      ],
      "execution_count": 46,
      "outputs": []
    },
    {
      "cell_type": "code",
      "metadata": {
        "colab": {
          "base_uri": "https://localhost:8080/"
        },
        "id": "Lub_C3VGglL1",
        "outputId": "caf6965b-4d04-4e78-ea5c-5f6fb3c9442d"
      },
      "source": [
        "test = sub_c(3,10)\n",
        "assert test.my_method() == 30, \"The method my_method should return the product between x_1 and x_2\"\n",
        "\n",
        "print(\"Output of overridden my_method of test:\",test.my_method()) #notice we didn't pass any parameter to call my_method\n",
        "#print(\"Output of overridden my_method of test:\",test.my_method(16)) #try to see what happens if you call it with 1 argument"
      ],
      "execution_count": 47,
      "outputs": [
        {
          "output_type": "stream",
          "text": [
            "Output of overridden my_method of test: 30\n"
          ],
          "name": "stdout"
        }
      ]
    },
    {
      "cell_type": "code",
      "metadata": {
        "colab": {
          "base_uri": "https://localhost:8080/"
        },
        "id": "WT32AJWRgoVQ",
        "outputId": "03352245-1dad-4f72-ab2b-20b23fd13fa9"
      },
      "source": [
        "y,z= 1,10\n",
        "instance_sub_a = sub_c(y,z)\n",
        "instance_a = My_Class(y,z)\n",
        "print('My_method for an instance of sub_c returns: ' + str(instance_sub_a.my_method()))\n",
        "print('My_method for an instance of My_Class returns: ' + str(instance_a.my_method(10)))"
      ],
      "execution_count": 48,
      "outputs": [
        {
          "output_type": "stream",
          "text": [
            "My_method for an instance of sub_c returns: 10\n",
            "My_method for an instance of My_Class returns: 20\n"
          ],
          "name": "stdout"
        }
      ]
    },
    {
      "cell_type": "code",
      "metadata": {
        "id": "NVC-gDgDgrmG"
      },
      "source": [
        ""
      ],
      "execution_count": null,
      "outputs": []
    }
  ]
}